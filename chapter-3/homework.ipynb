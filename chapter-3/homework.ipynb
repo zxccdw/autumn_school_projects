{
 "cells": [
  {
   "cell_type": "markdown",
   "metadata": {},
   "source": [
    "### №1 Классы\n",
    "\n",
    "Сначала записан номер класса (число, равное 7, 8 или 9), затем (через пробел) — фамилия ученика.\n",
    "\n",
    "Необходимо вывести список школьников по классам: сначала всех из 7, затем из 8, затем 9. Внутри класса порядок учеников должен соотв. порядку ввода."
   ]
  },
  {
   "cell_type": "markdown",
   "metadata": {},
   "source": [
    "```bash\n",
    "7 Ivanov\n",
    "8 Petrov\n",
    "9 Sidorov\n",
    "7 Grigoryev\n",
    "7 Sergeev\n",
    "8 Yakovlev\n",
    "```"
   ]
  },
  {
   "cell_type": "markdown",
   "metadata": {},
   "source": [
    "Результат:\n",
    "\n",
    "```bash\n",
    "7 Ivanov\n",
    "7 Grigoryev\n",
    "7 Sergeev\n",
    "8 Petrov\n",
    "8 Yakovlev\n",
    "9 Sidorov\n",
    "```"
   ]
  },
  {
   "cell_type": "code",
   "execution_count": null,
   "metadata": {},
   "outputs": [],
   "source": []
  },
  {
   "cell_type": "markdown",
   "metadata": {},
   "source": [
    "### №2 Скобочная последовательность\n",
    "\n",
    "Дана последовательность, состоящая из круглых и квадратных скобок.\n",
    "Правильной последовательностью называется та, которая может быть получена удалением все операндов и цифр.\n",
    "Для последовательности определите - является ли она правильной.\n",
    "Входные данные:\n",
    "\n",
    "Запись скобочной последовательности $1<=|2S|<=200$\n",
    "\n",
    "Результат:\n",
    "\n",
    "\"Yes\" или \"No\" в зависимости от ответа\n"
   ]
  },
  {
   "cell_type": "markdown",
   "metadata": {},
   "source": [
    "```bash\n",
    "([])[]()\n",
    "```"
   ]
  },
  {
   "cell_type": "markdown",
   "metadata": {},
   "source": [
    "`Yes`"
   ]
  },
  {
   "cell_type": "code",
   "execution_count": null,
   "metadata": {},
   "outputs": [],
   "source": []
  },
  {
   "cell_type": "markdown",
   "metadata": {},
   "source": [
    "### №3 Появления слов\n",
    "Словом считается последовательность непробельных символов идущих подряд, слова разделены одним или большим числом пробелов или `символами конца строки`.\n",
    "\n",
    "Для каждого слова из этого текста подсчитайте, сколько раз оно встречалось в этом тексте ранее\n"
   ]
  },
  {
   "cell_type": "markdown",
   "metadata": {},
   "source": [
    "```bash\n",
    "She sells sea shells on the sea shore;\n",
    "The shells that she sells are sea shells I'm sure.\n",
    "So if she sells sea shells on the sea shore,\n",
    "I'm sure that the shells are sea shore shells.\n",
    "```"
   ]
  },
  {
   "cell_type": "markdown",
   "metadata": {},
   "source": [
    "Результат:\n",
    "```bash\n",
    "0 0 0 0 0 0 1 0 0 1 0 0 1 0 2 2 0 0 0 0 1 2 3 3 1 1 4 0 1 0 1 2 4 1 5 0 0 \n",
    "```"
   ]
  },
  {
   "cell_type": "code",
   "execution_count": null,
   "metadata": {},
   "outputs": [],
   "source": []
  },
  {
   "cell_type": "markdown",
   "metadata": {},
   "source": [
    "### №4 Частота появления\n",
    "\n",
    "Дан текст, выведите все слова на разных строчках, отсортированные по убыванию их кол-ва, а при равном кол-ве отсортировать лексикографически.\n",
    "\n",
    "Ввод:\n",
    "```bash\n",
    "hi\n",
    "hi\n",
    "what is your name\n",
    "my name is bond\n",
    "james bond\n",
    "my name is damme\n",
    "van damme\n",
    "claude van damme\n",
    "jean claude van damme\n",
    "```\n",
    "\n",
    "Результат:\n",
    "```bash\n",
    "damme\n",
    "is\n",
    "name\n",
    "van\n",
    "bond\n",
    "claude\n",
    "hi\n",
    "my\n",
    "james\n",
    "jean\n",
    "what\n",
    "your\n",
    "```"
   ]
  },
  {
   "cell_type": "code",
   "execution_count": null,
   "metadata": {},
   "outputs": [],
   "source": []
  },
  {
   "cell_type": "markdown",
   "metadata": {},
   "source": [
    "### №4 Посчитайка\n",
    "\n",
    "Посчитайте, сколько раз в последовательности символов, заканчивающейся точкой, встречаются цифры и сколько — латинские буквы.\n",
    "\n",
    "Ввод:\n",
    "```bash\n",
    "2A+erG23SDdr.\n",
    "```\n",
    "\n",
    "Результат:\n",
    "```bash\n",
    "3 8\n",
    "```"
   ]
  },
  {
   "cell_type": "code",
   "execution_count": null,
   "metadata": {},
   "outputs": [],
   "source": []
  },
  {
   "cell_type": "markdown",
   "metadata": {},
   "source": [
    "### №5 Замените\n",
    "Дан список чисел - найдите максимум и минимум, а затем поменяйте их местами.\n",
    "\n",
    "Входные данные:\n",
    "$2<=N<=10^4$\n",
    "На следующей строке расположены $N$ целых чисел, разделенных пробелами\n",
    "\n",
    "Пример\n",
    "\n",
    "```bash\n",
    "5\n",
    "1 5 4 3 2\n",
    "```\n",
    "\n",
    "Результат\n",
    "\n",
    "```bash\n",
    "5 1 4 3 2 \n",
    "```"
   ]
  },
  {
   "cell_type": "code",
   "execution_count": null,
   "metadata": {},
   "outputs": [],
   "source": []
  },
  {
   "cell_type": "markdown",
   "metadata": {},
   "source": [
    "Если было слишком легко - могу докинуть сложные задачи"
   ]
  }
 ],
 "metadata": {
  "kernelspec": {
   "display_name": "Python 3",
   "language": "python",
   "name": "python3"
  },
  "language_info": {
   "name": "python",
   "version": "3.11.7"
  }
 },
 "nbformat": 4,
 "nbformat_minor": 2
}
