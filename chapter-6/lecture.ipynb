{
 "cells": [
  {
   "cell_type": "markdown",
   "metadata": {},
   "source": [
    "### Что такое реляционные базы данных?\n"
   ]
  },
  {
   "cell_type": "markdown",
   "metadata": {},
   "source": [
    "Совокупность данных формирует базу данных — массив, в котором собраны и организованы по некоторому принципу данные из какой-либо области знаний.\n",
    "\n",
    "Реляционная база данных — это составленная по реляционной модели база данных, в которой данные, занесенные в таблицы, имеют изначально заданные отношения. Сами таблицы в такой базе данных также соотносятся друг с другом строго определенным образом. Реляционные базы данных используют целый комплекс инструментов, которые обеспечивают целостность данных, т. е. их точность, полноту и единообразие.\n",
    "\n",
    "*Смотрим примеры моделей*\n"
   ]
  },
  {
   "cell_type": "markdown",
   "metadata": {},
   "source": [
    "![schema](data/db_example.png)"
   ]
  },
  {
   "cell_type": "markdown",
   "metadata": {},
   "source": [
    "### SQL\n"
   ]
  },
  {
   "cell_type": "code",
   "execution_count": null,
   "metadata": {},
   "outputs": [],
   "source": [
    "import sqlite3\n",
    "from datetime import date\n",
    "\n",
    "# Подключаемся к базе данных\n",
    "conn = sqlite3.connect('./data/tutorial.db')\n",
    "cursor = conn.cursor()\n"
   ]
  },
  {
   "cell_type": "code",
   "execution_count": null,
   "metadata": {},
   "outputs": [],
   "source": [
    "# Создание таблицы\n",
    "cursor.execute('''\n",
    "    CREATE TABLE IF NOT EXISTS users (\n",
    "        id INTEGER PRIMARY KEY AUTOINCREMENT,\n",
    "        name TEXT NOT NULL,\n",
    "        email TEXT NOT NULL UNIQUE,\n",
    "        age INTEGER,\n",
    "        created_at DATETIME DEFAULT CURRENT_TIMESTAMP\n",
    "    )\n",
    "''')\n"
   ]
  },
  {
   "cell_type": "code",
   "execution_count": null,
   "metadata": {},
   "outputs": [],
   "source": [
    "\n",
    "# Добавление пользователей\n",
    "users_to_insert = [\n",
    "    ('John Doe', 'john@example.com', 20),\n",
    "    ('Jane Smith', 'jane@example.com', 10),\n",
    "    ('Bob Johnson', 'bob@example.com', None),\n",
    "]\n",
    "\n",
    "cursor.executemany('INSERT INTO users (name, email, age) VALUES (?, ?, ?)', users_to_insert)\n",
    "\n",
    "# Сохраняем изменения\n",
    "conn.commit()\n"
   ]
  },
  {
   "cell_type": "code",
   "execution_count": null,
   "metadata": {},
   "outputs": [],
   "source": [
    "\n",
    "# Выполняем SELECT-запросы\n",
    "\n",
    "# 1. Получаем всех пользователей\n",
    "cursor.execute('SELECT id, name, email, created_at FROM users')\n",
    "all_users = cursor.fetchall()\n",
    "print(\"\\nВсе пользователи:\")\n",
    "for user in all_users:\n",
    "    print(user)\n"
   ]
  },
  {
   "cell_type": "code",
   "execution_count": null,
   "metadata": {},
   "outputs": [],
   "source": [
    "\n",
    "# 2. Получаем пользователя по ID\n",
    "user_id = 2\n",
    "cursor.execute('SELECT * FROM users WHERE id = ?', (user_id,))\n",
    "specific_user = cursor.fetchone()\n",
    "print(f\"\\nПользователь с ID {user_id}:\")\n",
    "print(specific_user)\n",
    "\n",
    "# conn.close()\n"
   ]
  },
  {
   "cell_type": "code",
   "execution_count": null,
   "metadata": {
    "vscode": {
     "languageId": "sql"
    }
   },
   "outputs": [],
   "source": [
    "drop table if exists users;\n",
    "CREATE TABLE users (\n",
    "    user_id SERIAL PRIMARY KEY,\n",
    "    username VARCHAR(50) NOT NULL,\n",
    "    email VARCHAR(100) UNIQUE NOT NULL,\n",
    "    created_at TIMESTAMP DEFAULT CURRENT_TIMESTAMP\n",
    ");\n",
    "\n",
    "drop table if exists comments;\n",
    "CREATE TABLE comments (\n",
    "    comment_id SERIAL PRIMARY KEY,\n",
    "    user_id INT NOT NULL,\n",
    "    content TEXT NOT NULL,\n",
    "    created_at TIMESTAMP DEFAULT CURRENT_TIMESTAMP,\n",
    "    FOREIGN KEY (user_id) REFERENCES users(user_id) ON DELETE CASCADE\n",
    ");  -- Каскадное удаление (если удаляется юзер, то удаляются зависимости\n",
    "\n",
    "drop table if exists friends;\n",
    "CREATE TABLE friends (\n",
    "    user_id SERIAL NOT NULL,\n",
    "    friend_id INT NOT NULL,\n",
    "    status VARCHAR(20) DEFAULT 'pending',\n",
    "    PRIMARY KEY (user_id, friend_id),\n",
    "    FOREIGN KEY (user_id) REFERENCES users(user_id) ON DELETE CASCADE,\n",
    "    FOREIGN KEY (friend_id) REFERENCES users(user_id) ON DELETE CASCADE\n",
    ");\n",
    "\n",
    "INSERT INTO users (username, email) VALUES\n",
    "('user1', 'user1@example.com'),\n",
    "('user2', 'user2@example.com'),\n",
    "('user3', 'user3@example.com'),\n",
    "('user4', 'user4@example.com'),\n",
    "('user5', 'user5@example.com');\n",
    "\n",
    "\n",
    "INSERT INTO comments (user_id, content) VALUES\n",
    "(1, 'This is a comment by user1'),\n",
    "(2, 'This is a comment by user2'),\n",
    "(3, 'User3 shared an opinion'),\n",
    "(4, 'User4 left a comment here'),\n",
    "(5, 'User5 loves this platform');\n",
    "\n",
    "INSERT INTO friends (user_id, friend_id, status) VALUES\n",
    "(1, 2, 'accepted'),\n",
    "(1, 3, 'pending'),\n",
    "(2, 4, 'accepted'),\n",
    "(3, 5, 'pending');\n",
    "\n",
    "\n",
    "select users.email, users.created_at as data from users;\n",
    "\n",
    "INSERT INTO comments (user_id, content) VALUES\n",
    "(1, '1111r1'),\n",
    "(1, ' is a111'),\n",
    "(2, '2222'),\n",
    "(2, 'User2 left2e'),\n",
    "(3, 'U3m');\n",
    "\n",
    "\n",
    "select user_id, email, created_at from users\n",
    "where user_id = 1;\n",
    "\n",
    "select * from users, comments; -- очень плохо\n",
    "\n",
    "select users.user_id as user_id, comments.content as content from users\n",
    "join comments on users.user_id = comments.user_id\n",
    "where users.user_id = 1;\n",
    "\n",
    "\n",
    "select users.email, users.created_at as data, comments.content as comment from users\n",
    "join comments on users.user_id = comments.user_id;\n",
    "\n",
    "select email, created_at from users\n",
    "where created_at > '2024-11-20'\n",
    "order by email;\n",
    "\n",
    "SELECT * FROM users\n",
    "WHERE EXTRACT(YEAR FROM created_at) = 2024;\n",
    "\n",
    "select users.user_id, count(comments) as cnt, users.email from users\n",
    "join comments on comments.user_id = users.user_id\n",
    "group by users.user_id\n",
    "order by cnt desc\n",
    "limit 3;\n",
    "\n",
    "select users.user_id, comments.content from comments\n",
    "join users on comments.user_id = users.user_id\n",
    "\n",
    "\n",
    "\n",
    "-- больше примеров\n",
    "\n",
    "select title, author, amount, round(price * 0.7, 2) as new_price from book -- Пример c использованием математики\n",
    "\n",
    "SELECT author, sum(amount), count(amount) FROM book GROUP BY author; -- сумма и подсчет\n",
    "\n",
    "/*\n",
    "порядок выполнения  SQL запроса на выборку на СЕРВЕРЕ:\n",
    "\n",
    "1) FROM\n",
    "2) WHERE\n",
    "3) GROUP BY\n",
    "4) HAVING\n",
    "5) SELECT\n",
    "6) ORDER BY\n",
    "*/\n",
    "\n",
    "\n",
    "SELECT author,\n",
    "    MIN(price) AS Минимальная_цена,\n",
    "    MAX(price) AS Максимальная_цена\n",
    "FROM book\n",
    "WHERE author <> 'Есенин С.А.'\n",
    "GROUP BY author\n",
    "HAVING SUM(amount) > 10;\n",
    "\n",
    "\n",
    "-- Рекомендую сразу писать init.sql для создания бд\n"
   ]
  },
  {
   "cell_type": "markdown",
   "metadata": {},
   "source": [
    "https://sql-ex.ru\n",
    "\n",
    "https://stepik.org/course/63054/syllabus"
   ]
  }
 ],
 "metadata": {
  "kernelspec": {
   "display_name": "kokoc",
   "language": "python",
   "name": "python3"
  },
  "language_info": {
   "codemirror_mode": {
    "name": "ipython",
    "version": 3
   },
   "file_extension": ".py",
   "mimetype": "text/x-python",
   "name": "python",
   "nbconvert_exporter": "python",
   "pygments_lexer": "ipython3",
   "version": "3.9.20"
  }
 },
 "nbformat": 4,
 "nbformat_minor": 2
}
