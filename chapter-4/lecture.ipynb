{
 "cells": [
  {
   "cell_type": "markdown",
   "metadata": {},
   "source": [
    "# Классы. ООП.\n"
   ]
  },
  {
   "cell_type": "markdown",
   "metadata": {},
   "source": [
    "### Класс - это шаблон для создания объектов\n",
    "\n",
    "Класс состоит из членов\n",
    "Члены это:\n",
    "```md\n",
    "Методы - функции класса\n",
    "Поля - переменные класса Создание класса:\n",
    "class <название класса>:\n",
    "    <поля и методы класса>\n",
    "```\n",
    "Подробнее про классы можно почитат тут: https://metanit.com/python/tutorial/7.1.php\n",
    "\n"
   ]
  },
  {
   "cell_type": "code",
   "execution_count": null,
   "metadata": {},
   "outputs": [],
   "source": [
    "class A:\n",
    "    ...\n",
    "    \n",
    "a = A()"
   ]
  },
  {
   "cell_type": "code",
   "execution_count": null,
   "metadata": {},
   "outputs": [],
   "source": [
    "print(a.__str__())"
   ]
  },
  {
   "cell_type": "code",
   "execution_count": null,
   "metadata": {},
   "outputs": [],
   "source": [
    "class Student:\n",
    "    # __init__ - метод инициализации объекта класса\n",
    "    def __init__(self, name: str, age: int = 18):\n",
    "        self.name = name # поля класса - переменные, принадлежащие классу\n",
    "        self.age = age\n",
    "        print(\"Student\", self.name)\n",
    "\n",
    "        self.group = \"autumn_school_project\"\n",
    "\n",
    "    # А это обычный \"метод\" класса, то есть функция, которая первым аргументом всегда принимает на вход объект класса\n",
    "    def get_age(self) -> int:\n",
    "        return self.age"
   ]
  },
  {
   "cell_type": "code",
   "execution_count": null,
   "metadata": {},
   "outputs": [],
   "source": [
    "Alex = Student(\"Alex\", 23)\n",
    "Stepan = Student(\"Stepan\")\n",
    "\n",
    "\n",
    "Alex.get_age(), Stepan.get_age()"
   ]
  },
  {
   "cell_type": "code",
   "execution_count": null,
   "metadata": {},
   "outputs": [],
   "source": [
    "class Student:\n",
    "    def __init__(self, name, age=18):\n",
    "        self.name = name\n",
    "        self.age = age\n",
    "        self.marks = [3, 4, 5]\n",
    "\n",
    "    # Dunder или magic методы - методы с двумя _ в начале и в конце\n",
    "    # Эти методы обладают \"магическими\" свойствами\n",
    "\n",
    "    # __str__ - применяется к обьекту при вызове str от него, например, при принте этого объекта\n",
    "    def __str__(self) -> str:\n",
    "        return f\"{self.name}, {self.age}\"\n",
    "    \n",
    "    # __repr__ - используется для отладки и логирования (как объект) \n",
    "    def __repr__(self) -> str:\n",
    "        return f\"Student: name={self.name}, age={self.age}, marks={self.marks}\"\n",
    "\n",
    "\n",
    "yaroslav = Student(\"Yaroslav\", 18)\n",
    "\n",
    "yaroslav"
   ]
  },
  {
   "cell_type": "code",
   "execution_count": null,
   "metadata": {},
   "outputs": [],
   "source": [
    "yaroslav"
   ]
  },
  {
   "cell_type": "markdown",
   "metadata": {},
   "source": [
    "### Обращение к полям и методам"
   ]
  },
  {
   "cell_type": "code",
   "execution_count": null,
   "metadata": {},
   "outputs": [],
   "source": [
    "print(yaroslav.age)\n",
    "print(yaroslav.__str__())\n"
   ]
  },
  {
   "cell_type": "code",
   "execution_count": null,
   "metadata": {},
   "outputs": [],
   "source": [
    "yaroslav.__class__"
   ]
  },
  {
   "cell_type": "markdown",
   "metadata": {},
   "source": [
    "### Доступность полей"
   ]
  },
  {
   "cell_type": "code",
   "execution_count": null,
   "metadata": {},
   "outputs": [],
   "source": [
    "class Student:\n",
    "    def __init__(self, name, age=18):\n",
    "        self.__id = 15\n",
    "        self._name = name\n",
    "        self.age = age\n",
    "        self.marks = [3, 4, 5]\n"
   ]
  },
  {
   "cell_type": "code",
   "execution_count": null,
   "metadata": {},
   "outputs": [],
   "source": [
    "st = Student(\"Yaroslav\", 18)\n",
    "\n",
    "# print(st.__id)\n",
    "\n",
    "print(st._Student__id)\n"
   ]
  },
  {
   "cell_type": "code",
   "execution_count": null,
   "metadata": {},
   "outputs": [],
   "source": [
    "class Student:\n",
    "    def __init__(self, name, age=18):\n",
    "        self.__id = 15\n",
    "        self._name = name\n",
    "        self.age = age\n",
    "        self.marks = [3, 4, 5]\n",
    "        \n",
    "    def get_id(self):\n",
    "        return self.__id\n",
    "    \n",
    "    \n",
    "st = Student(\"Ivan\")\n",
    "print(st.get_id())"
   ]
  },
  {
   "cell_type": "markdown",
   "metadata": {},
   "source": [
    "### Аннотации \n",
    "\n",
    "```python\n",
    "@property # getter\n",
    "\n",
    "@name.setter # setter\n",
    "```\n"
   ]
  },
  {
   "cell_type": "code",
   "execution_count": null,
   "metadata": {},
   "outputs": [],
   "source": [
    "class Student:\n",
    "    def __init__(self, name, age=18):\n",
    "        self.__id = 15\n",
    "        self._name = name\n",
    "        self.age = age\n",
    "        self.marks = [3, 4, 5]\n",
    "        \n",
    "    @property\n",
    "    def id(self):\n",
    "        return self.__id\n",
    "    \n",
    "    @id.setter\n",
    "    def id(self, id):\n",
    "        self.__id = id\n",
    "    \n",
    "    \n",
    "st = Student(\"Ivan\")\n",
    "st.id = 25\n",
    "print(st.id)\n"
   ]
  },
  {
   "cell_type": "markdown",
   "metadata": {},
   "source": [
    "### Наследование\n",
    "\n",
    "```python\n",
    "class подкласс (суперкласс):\n",
    "    методы_подкласса\n",
    "```"
   ]
  },
  {
   "cell_type": "code",
   "execution_count": null,
   "metadata": {},
   "outputs": [],
   "source": [
    "class User:\n",
    "    def __init__(self, name, age):\n",
    "        self.id = 15\n",
    "        self.name = name\n",
    "        self.age = age\n",
    "        \n",
    "\n",
    "class Employe(User):\n",
    "    ...\n",
    "        \n",
    "        \n",
    "\n",
    "em = Employe(\"Ivan\", 13)\n",
    "print(em.MAX_AGE)\n",
    "\n"
   ]
  },
  {
   "cell_type": "code",
   "execution_count": null,
   "metadata": {},
   "outputs": [],
   "source": [
    "class Employee:\n",
    "    def do(self):\n",
    "        print(\"Employee works\")\n",
    "  \n",
    "class Student:\n",
    "    def do(self):\n",
    "        print(\"Student studies\")\n",
    "        \n",
    "        \n",
    "class Test(Student):\n",
    "    def do(self):\n",
    "        print(\"TesT\")\n",
    "  \n",
    "  \n",
    "class WorkingStudent(Employee):\n",
    "    pass\n",
    " \n",
    "tom = WorkingStudent()\n",
    "tom.do()     # ?"
   ]
  },
  {
   "cell_type": "markdown",
   "metadata": {},
   "source": [
    "### super()\n",
    "\n",
    "если нам нужно переопределить конструктор (дополнить)\n",
    "```python\n",
    "super().__init__(name)\n",
    "```"
   ]
  },
  {
   "cell_type": "code",
   "execution_count": null,
   "metadata": {},
   "outputs": [],
   "source": [
    "class Person:\n",
    "    def __init__(self, name):\n",
    "        self.__name = name   # имя человека\n",
    " \n",
    "    @property\n",
    "    def name(self):\n",
    "        return self.__name\n",
    " \n",
    "    def display_info(self):\n",
    "        print(f\"Name: {self.__name}\")\n",
    " \n",
    " \n",
    "class Employee(Person):\n",
    "    def __init__(self, name, company):\n",
    "        super().__init__(name)\n",
    "        self.company = company\n",
    " \n",
    "    def display_info(self):\n",
    "        super().display_info() # обращение к методу display_info класса Person\n",
    "        print(f\"Company: {self.company}\")\n",
    "    \n",
    " \n",
    " \n",
    "tom = Employee(\"Tom\", \"Microsoft\")\n",
    "tom.display_info()  # Name: Tom\n",
    "                    # Company: Microsoft"
   ]
  },
  {
   "cell_type": "markdown",
   "metadata": {},
   "source": [
    "### Атрибутов классов\n",
    "\n",
    "Кроме атрибутов объектов в классе можно определять атрибуты классов. Подобные атрибуты определяются в виде переменных уровня класса."
   ]
  },
  {
   "cell_type": "code",
   "execution_count": null,
   "metadata": {},
   "outputs": [],
   "source": [
    "class Number:\n",
    "    type = \"Number\"\n",
    "    description = \"limited number\"\n",
    "    max_value = 100\n",
    "    \n",
    "    def __init__(self):\n",
    "        self.max_value = 5\n",
    "\n",
    "\n",
    "numb = Number()\n",
    "\n",
    "print(numb.type, numb.max_value)\n",
    "print(Number.type, Number.max_value)\n",
    "    "
   ]
  },
  {
   "cell_type": "code",
   "execution_count": null,
   "metadata": {},
   "outputs": [],
   "source": [
    "class Person:\n",
    "    __type = \"Person\"\n",
    " \n",
    "    @staticmethod\n",
    "    def print_type():\n",
    "        print(Person.__type)\n",
    " \n",
    " \n",
    "Person.print_type()\n",
    " \n",
    "tom = Person()\n",
    "tom.print_type() "
   ]
  },
  {
   "cell_type": "code",
   "execution_count": null,
   "metadata": {},
   "outputs": [],
   "source": [
    "class Person:\n",
    "    def __init__(self, name):\n",
    "        self.__name = name   # имя человека\n",
    " \n",
    "    @property\n",
    "    def name(self):\n",
    "        return self.__name\n",
    " \n",
    "    def display_info(self):\n",
    "        print(f\"Name: {self.__name}\")\n",
    " \n",
    " \n",
    "class Employee(Person):\n",
    "    def __init__(self, name, company):\n",
    "        super().__init__(name)\n",
    "        self.company = company\n",
    " \n",
    "    def display_info(self):\n",
    "        super().display_info() # обращение к методу display_info класса Person\n",
    "        print(f\"Company: {self.company}\")"
   ]
  },
  {
   "cell_type": "markdown",
   "metadata": {},
   "source": [
    "### Проверка принадлежности\n",
    "\n",
    "При работе с объектами бывает необходимо в зависимости от их типа выполнить те или иные операции. И с помощью встроенной функции isinstance() мы можем проверить тип объекта"
   ]
  },
  {
   "cell_type": "code",
   "execution_count": null,
   "metadata": {},
   "outputs": [],
   "source": [
    "tom = Employee(\"Tom\", \"Microsoft\")\n",
    "ivan = Person(\"Ivan\")\n",
    "\n",
    "print(isinstance(tom, Person))\n",
    "print(isinstance(tom, Employee))\n",
    "print(type(tom))\n"
   ]
  },
  {
   "cell_type": "markdown",
   "metadata": {},
   "source": [
    "### Практика\n",
    "\n",
    "А теперь пишем свой класс дроби\n",
    "\n",
    "$\\frac{num}{denum}$\n",
    "\n",
    "Формат вывода: ```num\\denum```\n",
    "\n",
    "1) проверка деления на 0\n",
    "2) отрицательный только числитель\n",
    "3) сокращение дроби\n",
    "4) операции с числами и другими \"дробями\"\n",
    "\n",
    "\n",
    "*** Сокращение дроби можно сделать статическим методом"
   ]
  }
 ],
 "metadata": {
  "kernelspec": {
   "display_name": "Python 3",
   "language": "python",
   "name": "python3"
  },
  "language_info": {
   "codemirror_mode": {
    "name": "ipython",
    "version": 3
   },
   "file_extension": ".py",
   "mimetype": "text/x-python",
   "name": "python",
   "nbconvert_exporter": "python",
   "pygments_lexer": "ipython3",
   "version": "3.11.7"
  }
 },
 "nbformat": 4,
 "nbformat_minor": 2
}
