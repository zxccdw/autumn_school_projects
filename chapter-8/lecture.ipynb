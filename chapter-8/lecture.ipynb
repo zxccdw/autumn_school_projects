{
 "cells": [
  {
   "cell_type": "markdown",
   "metadata": {},
   "source": [
    "### REST API\n"
   ]
  },
  {
   "cell_type": "markdown",
   "metadata": {},
   "source": [
    "REST (Representational State Transfer) - это архитектурный стиль, набор принципов проектирования взаимодействия компонентов веб приложения в сети"
   ]
  },
  {
   "cell_type": "markdown",
   "metadata": {},
   "source": [
    "5 принципов REST:\n",
    "+ Клиент-серверная архитектура\n",
    "+ Stateless (сервер не хранит состояние между запросами, каждый запрос должен содержать всю информацию для его обработки)\n",
    "+ Кэширование (кеширование ресурсов для быстродействия)\n",
    "+ Единый стиль (соответствие семантики http метода смыслу запроса, единый URL для одинаковых сущностей, формат входных и выходных данных и др.)\n",
    "+ Многоуровневая система (клиента не должно волновать внутреннее устройство сервера)"
   ]
  },
  {
   "cell_type": "markdown",
   "metadata": {},
   "source": [
    "\n",
    "### Pydantic"
   ]
  },
  {
   "cell_type": "markdown",
   "metadata": {},
   "source": [
    "1. Аннотация типов - подсказки от IDE, статический анализ кода и др.\n",
    "2. Скорость - core библиотеки написан на Rust (это как С/C++, но НАМНОГО сложнее)\n",
    "3. Автогенерация JSON Schema (для Swagger и тд)\n",
    "4. Кастомизация и большое кол-во встроенных типов, несколько режимов работы\n",
    "5. Валидация данных"
   ]
  },
  {
   "cell_type": "code",
   "execution_count": null,
   "metadata": {},
   "outputs": [],
   "source": [
    "class User:\n",
    "    def __init__(self, username: str, age: int, email: str, password: str):\n",
    "        if not isinstance(username, str):\n",
    "            raise ValueError(\"Username must be a string\")\n",
    "        self.username: str = username\n",
    "        self.age: int = age\n",
    "        self.email: str = email\n",
    "        self.password = password\n",
    "        if not self.validate_age():\n",
    "            raise ValueError(\"User must be adult\")\n",
    "        \n",
    "    def validate_age(self):\n",
    "        return self.age >= 14\n",
    "       \n",
    "        \n",
    "user = User(username=123, age=15, email=\"m1803003@edu.misis.ru\", password=\"Pr1Nciple\")\n",
    "print(user.username)"
   ]
  },
  {
   "cell_type": "code",
   "execution_count": null,
   "metadata": {},
   "outputs": [],
   "source": [
    "from pydantic import BaseModel\n",
    "\n",
    "# Базовое объявление пайдантик модели\n",
    "class User(BaseModel):\n",
    "    username: str\n",
    "    age: int\n",
    "    email: str\n",
    "    password: str"
   ]
  },
  {
   "cell_type": "code",
   "execution_count": null,
   "metadata": {},
   "outputs": [],
   "source": [
    "# Обычная инициализация модели\n",
    "user = User(username=123, age=21, email=\"m1803003@edu.misis.ru\", password=\"Pr1Nciple\")"
   ]
  },
  {
   "cell_type": "code",
   "execution_count": null,
   "metadata": {},
   "outputs": [],
   "source": [
    "print(user)"
   ]
  },
  {
   "cell_type": "code",
   "execution_count": null,
   "metadata": {},
   "outputs": [],
   "source": [
    "# Десериализация из JSON\n",
    "user = User.model_validate_json(\n",
    "    '{\"username\": \"teadove\", \"age\": 21, \"email\": \"m1803003@edu.misis.ru\", \"password\": \"Pr1Nciple\"}'\n",
    ")"
   ]
  },
  {
   "cell_type": "code",
   "execution_count": null,
   "metadata": {},
   "outputs": [],
   "source": [
    "user"
   ]
  },
  {
   "cell_type": "code",
   "execution_count": null,
   "metadata": {},
   "outputs": [],
   "source": [
    "# Десериализация из словаря\n",
    "user = User.model_validate(\n",
    "    {\"username\": \"teadove\", \"age\": 21, \"email\": \"m1803003@edu.misis.ru\", \"password\": \"Pr1Nciple\"}\n",
    ")\n",
    "user"
   ]
  },
  {
   "cell_type": "code",
   "execution_count": null,
   "metadata": {},
   "outputs": [],
   "source": [
    "# Сериализация в json\n",
    "user.model_dump_json()"
   ]
  },
  {
   "cell_type": "code",
   "execution_count": null,
   "metadata": {},
   "outputs": [],
   "source": [
    "# Сериализация в словарь\n",
    "user.model_dump()"
   ]
  },
  {
   "cell_type": "code",
   "execution_count": null,
   "metadata": {},
   "outputs": [],
   "source": [
    "import re\n",
    "from pydantic import BaseModel, validator\n",
    "\n",
    "\n",
    "class User(BaseModel):\n",
    "    username: str\n",
    "    age: int\n",
    "    email: str\n",
    "    password: str\n",
    "\n",
    "    @validator(\"age\")\n",
    "    @classmethod\n",
    "    def validate_age(cls, value):\n",
    "        if value < 18:\n",
    "            raise ValueError(\"User must be adult\")\n",
    "        return value\n",
    "\n",
    "    @validator(\"email\")\n",
    "    @classmethod\n",
    "    def validate_email(cls, value):\n",
    "        if not bool(re.fullmatch(r\"[\\w.-]+@[\\w-]+\\.[\\w.]+\", value)):\n",
    "            raise ValueError(\"Email is invalid\")\n",
    "        return value.lower()\n",
    "\n",
    "    @validator(\"password\")\n",
    "    @classmethod\n",
    "    def validate_password(cls, value):\n",
    "        password_length = len(value)\n",
    "        if password_length < 8 or password_length > 16:\n",
    "            raise ValueError(\"The password must be between 8 and 16 characters long\")\n",
    "        return value\n",
    "    \n",
    "\n",
    "# Valid User\n",
    "valid_user = {\"username\": \"test_name\", \"age\": 24, \"email\": \"NAME@test.gr\", \"password\": \"123456789\"}\n",
    "user = User(**valid_user)\n",
    "print(user)\n"
   ]
  },
  {
   "cell_type": "markdown",
   "metadata": {},
   "source": [
    "### FastAPI"
   ]
  },
  {
   "cell_type": "code",
   "execution_count": null,
   "metadata": {},
   "outputs": [],
   "source": [
    "from fastapi import FastAPI\n",
    "from fastapi.testclient import TestClient # pip install httpx\n",
    "from curlify2 import Curlify # pip install curlify2"
   ]
  },
  {
   "cell_type": "code",
   "execution_count": null,
   "metadata": {},
   "outputs": [],
   "source": [
    "!pip install httpx"
   ]
  },
  {
   "cell_type": "code",
   "execution_count": null,
   "metadata": {},
   "outputs": [],
   "source": [
    "!pip install curlify2"
   ]
  },
  {
   "cell_type": "code",
   "execution_count": null,
   "metadata": {},
   "outputs": [],
   "source": [
    "### Тестовый клиент fastapi \n",
    "# Чтобы _протестировать_ работоспособность нашего приложения можно применять множество способов, но самый простой - тестовый клиент fastapi\n",
    "app = FastAPI()\n",
    "# \"https://github.com/hello\"\n",
    "@app.get(\"/hello\")\n",
    "def hello() -> str:\n",
    "    return \"world\"\n",
    "\n",
    "client = TestClient(app)\n",
    "\n",
    "response = client.get(\"/hello\")\n",
    "# Assert - ключевое слово, которое проверяет, что выражение далее истинно. Если оно ложно, то вылетит ошибка AssertionError\n",
    "assert response.status_code == 200\n",
    "assert response.text == '\"world\"'\n",
    "\n",
    "# curlify2.Curlify позволяет превратить request в curl запрос\n",
    "Curlify(response.request).to_curl()"
   ]
  },
  {
   "cell_type": "code",
   "execution_count": null,
   "metadata": {},
   "outputs": [],
   "source": [
    "# Хедеры\n",
    "from fastapi import Header\n",
    "\n",
    "app = FastAPI()\n",
    "\n",
    "@app.get(\"/hello\")\n",
    "def hello(user_name: str = Header(...)) -> str:\n",
    "    return f\"Hello {user_name}\"\n",
    "\n",
    "client = TestClient(app)\n",
    "\n",
    "# Обратите внимание, что хедеры принято писать в Кебаб-Камел-Кейсе (User-Name), \n",
    "#  но в фастапи мы принимаем на вход именно снейк_кейс (user_name)\n",
    "response = client.get(\"/hello\", headers={\"User-Name\": \"Olya\"})\n",
    "\n",
    "assert response.status_code == 200\n",
    "assert response.text == '\"Hello Olya\"'\n",
    "\n",
    "Curlify(response.request).to_curl()"
   ]
  },
  {
   "cell_type": "code",
   "execution_count": null,
   "metadata": {},
   "outputs": [],
   "source": [
    "# Query\n",
    "from fastapi import Query\n",
    "\n",
    "app = FastAPI()\n",
    "\n",
    "@app.get(\"/hello\")\n",
    "def hello(user_name: str = Query(...), marks: list[str] = Query(...)) -> str:\n",
    "    return f\"Hello {user_name}, your marks are: {','.join(marks)}\"\n",
    "\n",
    "client = TestClient(app)\n",
    "\n",
    "# Мы можем принимать на вход даже массивы. \n",
    "#  Для этого просто требуется передавать ключ несколько раз\n",
    "response = client.get(\"/hello?user_name=stepan&marks=4&marks=5&marks=3\")\n",
    "\n",
    "assert response.status_code == 200\n",
    "assert response.text == '\"Hello stepan, your marks are: 4,5,3\"'\n",
    "\n",
    "Curlify(response.request).to_curl()"
   ]
  },
  {
   "cell_type": "code",
   "execution_count": null,
   "metadata": {},
   "outputs": [],
   "source": [
    "# Path\n",
    "from fastapi import Path\n",
    "\n",
    "app = FastAPI()\n",
    "\n",
    "@app.get(\"/users/{userId}/hello\")\n",
    "def hello(user_id: str = Path(..., alias=\"userId\")) -> str: # alias - второе название у аргумента, чтобы можно было получить путь userId\n",
    "    return f\"Hello {user_id}\"\n",
    "\n",
    "client = TestClient(app)\n",
    "\n",
    "response = client.get(\"/users/123/hello\")\n",
    "\n",
    "assert response.status_code == 200\n",
    "assert response.text == '\"Hello 123\"'\n",
    "\n",
    "Curlify(response.request).to_curl()"
   ]
  },
  {
   "cell_type": "markdown",
   "metadata": {},
   "source": [
    "### Loguru \n",
    "Есть множество разных логеров, которые можно использовать.  \n",
    "Например, встроенный в питон логгер достаточно хорошо выполняет свой задачи.  \n",
    "Но для простых и небольших проектов идеально подходит loguru:\n",
    "`pip install loguru`"
   ]
  },
  {
   "cell_type": "code",
   "execution_count": null,
   "metadata": {},
   "outputs": [],
   "source": [
    "!pip install loguru"
   ]
  },
  {
   "cell_type": "code",
   "execution_count": null,
   "metadata": {},
   "outputs": [],
   "source": [
    "from loguru import logger\n",
    "\n",
    "logger.debug(\"когда происходит что-то не очень важное\")\n",
    "logger.info(\"когда происходит что-то важное\")\n",
    "logger.warning(\"когда происходит не совсем ошибка, но и не нормальное поведение\")\n",
    "logger.error(\"когда точно происходит ошибка\")"
   ]
  },
  {
   "cell_type": "code",
   "execution_count": null,
   "metadata": {},
   "outputs": [],
   "source": [
    "# А еще можно красиво логировать ошибки\n",
    "try:\n",
    "    raise Exception(\" ошибка:( \")\n",
    "except Exception:\n",
    "    logger.exception(\"exception.raised\")"
   ]
  },
  {
   "cell_type": "markdown",
   "metadata": {},
   "source": [
    "### Мидлвари\n",
    "\n",
    "Фастапи поддерживает мидлвари - это такие функции, которые выполняются перед и после запросом, могут отфильтровывать запросы, логировать их, писать время выполнения запроса и тд"
   ]
  },
  {
   "cell_type": "code",
   "execution_count": null,
   "metadata": {},
   "outputs": [],
   "source": [
    "import time\n",
    "from typing import Callable, Awaitable\n",
    "from fastapi import Request, Response\n",
    "from loguru import logger\n",
    "\n",
    "app = FastAPI()\n",
    "\n",
    "# Фастапи на данный момент поддерживает только 1 тип мидлварей - на http\n",
    "@app.middleware(\"http\")\n",
    "async def add_process_time_header(request: Request, call_next: Callable[[Request], Awaitable[Response]]) -> Response:\n",
    "    # Мидлварь принимаем на вход request (сам запрос), call_next - функция, что возвращает ответ\n",
    "    #  с ответом мы можем проводить множество операций, например, добавлять хедеры, логировать запросы и тд\n",
    "\n",
    "    \n",
    "    t0 = time.time() # Засекаем время\n",
    "    \n",
    "    response = await call_next(request)\n",
    "\n",
    "    elapsed_ms = round((time.time() - t0) * 1000, 2)\n",
    "    response.headers[\"X-Process-Time\"] = str(elapsed_ms)\n",
    "    logger.debug(\"{} {} done in {}ms\", request.method, request.scope[\"route\"].path, elapsed_ms)\n",
    "    \n",
    "    return response\n",
    "\n",
    "\n",
    "@app.get(\"/hello\")\n",
    "def hello() -> str:\n",
    "    return \"world\"\n",
    "\n",
    "client = TestClient(app)\n",
    "\n",
    "response = client.get(\"/hello\")\n",
    "\n",
    "assert response.status_code == 200\n",
    "assert response.text == '\"world\"'\n",
    "\n",
    "print(response.headers['X-Process-Time'])\n",
    "Curlify(response.request).to_curl()"
   ]
  },
  {
   "cell_type": "markdown",
   "metadata": {},
   "source": [
    "### Depends \n",
    "\n",
    "Depends - функция fastapi, которая позволяет вынести логику валидации данных аспектным подходом, давайте сразу разберем на примере"
   ]
  },
  {
   "cell_type": "code",
   "execution_count": null,
   "metadata": {},
   "outputs": [],
   "source": [
    "from fastapi import Depends, Header, HTTPException, status\n",
    "\n",
    "app = FastAPI()\n",
    "\n",
    "# Например, мы хотим проверять, что пользователь передал хедер с ключом доступа \n",
    "def has_api_key(x_api_key: str = Header(...)) -> None:\n",
    "    if x_api_key != \"42\":\n",
    "        raise HTTPException(status_code=status.HTTP_403_FORBIDDEN, detail=\"wrong api key\")\n",
    "    \n",
    "    return x_api_key\n",
    "\n",
    "    \n",
    "# Чтобы подключить нашу зависимость, достаточно указать ее в Depends (вызывать НЕ надо)\n",
    "@app.get(\"/hello\")\n",
    "def hello(_ = Depends(has_api_key)) -> str:\n",
    "    return \"world\"\n",
    "\n",
    "client = TestClient(app)\n",
    "\n",
    "response = client.get(\"/hello\", headers={\"X-Api-Key\": \"10\"})\n",
    "\n",
    "assert response.status_code == 403\n",
    "assert response.json() == {\"detail\":\"wrong api key\"}\n",
    "\n",
    "response = client.get(\"/hello\", headers={\"X-Api-Key\": \"42\"})\n",
    "print(response.json())\n",
    "\n",
    "assert response.status_code == 200\n",
    "assert response.text == '\"world\"'\n",
    "\n",
    "Curlify(response.request).to_curl()"
   ]
  },
  {
   "cell_type": "markdown",
   "metadata": {},
   "source": [
    "Также, Depends можно использовать и для получения аргументов\n",
    "\n",
    "В данном примере парсится JWT токен, который представляет собой _подписанный_ JSON словарик. Данный подход часто используется в бекенд разработке, поэтому настоятельно советуем его подробно изучить: https://jwt.io/"
   ]
  },
  {
   "cell_type": "code",
   "execution_count": null,
   "metadata": {},
   "outputs": [],
   "source": [
    "!pip uninstall pyjwt"
   ]
  },
  {
   "cell_type": "code",
   "execution_count": null,
   "metadata": {},
   "outputs": [],
   "source": [
    "from fastapi import Depends, Header, HTTPException, status\n",
    "from typing import Any\n",
    "import jwt\n",
    "\n",
    "app = FastAPI()\n",
    "\n",
    "\n",
    "def x_id_token(x_id_token: str = Header(...)) -> dict[str, Any]:\n",
    "    try:\n",
    "        # \"secret\" - это строчка, с которой мы _подписали_ токен. В идеале она должна лежать где-то в безопасном месте\n",
    "        # decode - функция расшифровки токена в словарь\n",
    "        decoded = jwt.decode(x_id_token, \"secret\", algorithms=[\"HS256\"])\n",
    "    except Exception as exc:\n",
    "        raise HTTPException(status_code=status.HTTP_403_FORBIDDEN, detail=\"bad token\") from exc\n",
    "\n",
    "    return decoded\n",
    "\n",
    "\n",
    "# Тут мы просто получаем готовытокен, либо кидаем ошибку \n",
    "@app.get(\"/hello\")\n",
    "def hello(id_token: dict[str, Any] = Depends(x_id_token)) -> str:\n",
    "    return f\"Hello {id_token['username']}\"\n",
    "\n",
    "client = TestClient(app)\n",
    "\n",
    "response = client.get(\"/hello\")\n",
    "\n",
    "assert response.status_code == 403\n",
    "\n",
    "# Первый аргумент - словарь, полезная нагрузка, которая используется в токене\n",
    "token = jwt.encode({\"username\": \"tainella\"}, \"secret\", algorithm=\"HS256\")\n",
    "response = client.get(\"/hello\", headers={\"X-Id-Token\": token})\n",
    "\n",
    "assert response.status_code == 200\n",
    "assert response.text == '\"Hello tainella\"'\n",
    "\n",
    "Curlify(response.request).to_curl()"
   ]
  },
  {
   "cell_type": "code",
   "execution_count": null,
   "metadata": {},
   "outputs": [],
   "source": [
    "!pip install wikipedia"
   ]
  },
  {
   "cell_type": "code",
   "execution_count": null,
   "metadata": {},
   "outputs": [],
   "source": [
    "import wikipedia\n",
    "from loguru import logger\n",
    "\n",
    "def get_page_from_wikipedia(title: str) -> str:\n",
    "    try:\n",
    "        res = wikipedia.page(title)\n",
    "        return res\n",
    "    except wikipedia.exceptions.PageError as e:\n",
    "        logger.error(e)\n",
    "        return None\n",
    "    \n",
    "logger.add(\"file_{time}.log\")\n",
    "res = get_page_from_wikipedia(\"qwertyjunhbgvfdef\")\n",
    "\n",
    "# @app.get(\"/api/search/{title}\")\n",
    "# def search(title: str) -> str:\n",
    "if res is not None:\n",
    "    print(res.title)\n",
    "    print(res.url)\n",
    "else:\n",
    "    print(\"not found\")"
   ]
  },
  {
   "cell_type": "markdown",
   "metadata": {},
   "source": [
    "## ДЗ.\n",
    "Написать API для получения страниц в википедии.\n",
    "\n",
    "+ Добавить логирование\n",
    "\n",
    "+ \\*Запустить с uvicorn и протестировать с фронтендом\n",
    "\n",
    "+ \\*Почитать про CORS :)\n",
    "\n",
    "\"/api/search/{title}\" -> {\"title\": \"title\", \"url\": \"http://wikipedia.org/....\"}"
   ]
  }
 ],
 "metadata": {
  "kernelspec": {
   "display_name": "misis",
   "language": "python",
   "name": "python3"
  },
  "language_info": {
   "codemirror_mode": {
    "name": "ipython",
    "version": 3
   },
   "file_extension": ".py",
   "mimetype": "text/x-python",
   "name": "python",
   "nbconvert_exporter": "python",
   "pygments_lexer": "ipython3",
   "version": "3.11.10"
  }
 },
 "nbformat": 4,
 "nbformat_minor": 2
}
