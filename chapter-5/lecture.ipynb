{
 "cells": [
  {
   "cell_type": "markdown",
   "metadata": {},
   "source": [
    "## Исключения\n",
    "Исключения - это объекты, вызываемые для остановки работы программы с сообщением о том, что произошла ошибка"
   ]
  },
  {
   "cell_type": "code",
   "execution_count": null,
   "metadata": {},
   "outputs": [],
   "source": [
    "17 / 0"
   ]
  },
  {
   "cell_type": "code",
   "execution_count": null,
   "metadata": {},
   "outputs": [],
   "source": [
    "string = \"Hello\" # Еще пример\n",
    "number = int(string)\n",
    "print(number)"
   ]
  },
  {
   "cell_type": "markdown",
   "metadata": {},
   "source": [
    "### Как ловить ошибки?\n",
    "\n",
    "При возникновении исключения работа программы прерывается, и чтобы избежать подобного поведения и обрабатывать исключения в Python есть конструкция \n",
    "```python\n",
    "try:\n",
    "    инструкции\n",
    "except [Тип_исключения]:\n",
    "    инструкции\n",
    "```"
   ]
  },
  {
   "cell_type": "code",
   "execution_count": null,
   "metadata": {},
   "outputs": [],
   "source": [
    "n = int(input())\n",
    "try:\n",
    "    print(sqrt(n))\n",
    "except: # Тип исключения опционален\n",
    "    print(\"Число должно быть положительным\")\n",
    "    \n",
    "print(\"Программа продолжает работать\")"
   ]
  },
  {
   "cell_type": "code",
   "execution_count": null,
   "metadata": {},
   "outputs": [],
   "source": [
    "n = int(input())\n",
    "try:\n",
    "    print(sqrt(n))\n",
    "except ValueError:\n",
    "    print(\"Число должно быть положительным\")"
   ]
  },
  {
   "cell_type": "code",
   "execution_count": null,
   "metadata": {},
   "outputs": [],
   "source": [
    "n = int(input())\n",
    "try:\n",
    "    print(sqrt(n))\n",
    "except Exception as e:\n",
    "    print(isinstance(Exception(), BaseException))\n",
    "    print(isinstance(e, BaseException))\n",
    "    print(isinstance(e, Exception))\n",
    "    print(e)"
   ]
  },
  {
   "cell_type": "markdown",
   "metadata": {},
   "source": [
    "### Блок finally\n",
    "\n",
    "Отличительной особенностью этого блока является то, что он выполняется вне зависимости, было ли сгенерировано исключение\n",
    "\n",
    "```python\n",
    "try:\n",
    "    инструкции\n",
    "except [Тип_исключения]:\n",
    "    инструкции\n",
    "finally:\n",
    "    инструкции\n",
    "```\n"
   ]
  },
  {
   "cell_type": "code",
   "execution_count": null,
   "metadata": {},
   "outputs": [],
   "source": [
    "n = int(input())\n",
    "try:\n",
    "    print(sqrt(n))\n",
    "except ValueError:\n",
    "    print(\"Число должно быть положительным\")\n",
    "finally:\n",
    "    print(\"Все равно попадаем сюда\")"
   ]
  },
  {
   "cell_type": "markdown",
   "metadata": {},
   "source": [
    "### Еще есть else\n",
    "\n",
    "else срабатывает, если не было исключения в try"
   ]
  },
  {
   "cell_type": "code",
   "execution_count": null,
   "metadata": {},
   "outputs": [],
   "source": [
    "try:\n",
    "    positive_number = 1 / int(input(\"Введите положительное число: \"))  # а что если 0 или строка?\n",
    "    print(positive_number ** (1 / 2))\n",
    "except ZeroDivisionError:\n",
    "    print(\"Обработка ошибки деления на 0...\")\n",
    "except ValueError:\n",
    "    print(\"Обработка ошибки ввода строки...\")\n",
    "else:\n",
    "    print(\"Ошибка не произошла\")\n",
    "finally:  \n",
    "    print(\"А я выполнюсь в любом случае\")"
   ]
  },
  {
   "cell_type": "markdown",
   "metadata": {},
   "source": [
    "### Вызов ошибок\n",
    "\n",
    "Используется ```raise```"
   ]
  },
  {
   "cell_type": "code",
   "execution_count": null,
   "metadata": {},
   "outputs": [],
   "source": [
    "from math import sqrt\n",
    "\n",
    "n = int(input()) # ожидаем положительное число\n",
    "if n <= 0:\n",
    "    raise Exception(\"Число должно быть положительным\")\n",
    "\n",
    "print(sqrt(n))"
   ]
  },
  {
   "cell_type": "markdown",
   "metadata": {},
   "source": [
    "### И тут наследование???\n",
    "\n",
    "Все исключения наследуются от ```BaseException```\n",
    "\n",
    "https://docs.python.org/3/library/exceptions.html - подробнее тут\n"
   ]
  },
  {
   "cell_type": "markdown",
   "metadata": {},
   "source": [
    "![exception](data/exceptions.png)"
   ]
  },
  {
   "cell_type": "markdown",
   "metadata": {},
   "source": [
    "или вот:\n",
    "```bash\n",
    "BaseException\n",
    " ├── BaseExceptionGroup\n",
    " ├── GeneratorExit\n",
    " ├── KeyboardInterrupt\n",
    " ├── SystemExit\n",
    " └── Exception\n",
    "      ├── ArithmeticError\n",
    "      │    ├── FloatingPointError\n",
    "      │    ├── OverflowError\n",
    "      │    └── ZeroDivisionError\n",
    "      ├── AssertionError\n",
    "      ├── AttributeError\n",
    "      ├── BufferError\n",
    "      ├── EOFError\n",
    "      ├── ExceptionGroup [BaseExceptionGroup]\n",
    "      ├── ImportError\n",
    "      │    └── ModuleNotFoundError\n",
    "      ├── LookupError\n",
    "      │    ├── IndexError\n",
    "      │    └── KeyError\n",
    "      ├── MemoryError\n",
    "      ├── NameError\n",
    "      │    └── UnboundLocalError\n",
    "      ├── OSError\n",
    "      │    ├── BlockingIOError\n",
    "      │    ├── ChildProcessError\n",
    "      │    ├── ConnectionError\n",
    "      │    │    ├── BrokenPipeError\n",
    "      │    │    ├── ConnectionAbortedError\n",
    "      │    │    ├── ConnectionRefusedError\n",
    "      │    │    └── ConnectionResetError\n",
    "      │    ├── FileExistsError\n",
    "      │    ├── FileNotFoundError\n",
    "      │    ├── InterruptedError\n",
    "      │    ├── IsADirectoryError\n",
    "      │    ├── NotADirectoryError\n",
    "      │    ├── PermissionError\n",
    "      │    ├── ProcessLookupError\n",
    "      │    └── TimeoutError\n",
    "      ├── ReferenceError\n",
    "      ├── RuntimeError\n",
    "      │    ├── NotImplementedError\n",
    "      │    ├── PythonFinalizationError\n",
    "      │    └── RecursionError\n",
    "      ├── StopAsyncIteration\n",
    "      ├── StopIteration\n",
    "      ├── SyntaxError\n",
    "      │    └── IndentationError\n",
    "      │         └── TabError\n",
    "      ├── SystemError\n",
    "      ├── TypeError\n",
    "      ├── ValueError\n",
    "      │    └── UnicodeError\n",
    "      │         ├── UnicodeDecodeError\n",
    "      │         ├── UnicodeEncodeError\n",
    "      │         └── UnicodeTranslateError\n",
    "      └── Warning\n",
    "           ├── BytesWarning\n",
    "           ├── DeprecationWarning\n",
    "           ├── EncodingWarning\n",
    "           ├── FutureWarning\n",
    "           ├── ImportWarning\n",
    "           ├── PendingDeprecationWarning\n",
    "           ├── ResourceWarning\n",
    "           ├── RuntimeWarning\n",
    "           ├── SyntaxWarning\n",
    "           ├── UnicodeWarning\n",
    "           └── UserWarning\n",
    "```"
   ]
  },
  {
   "cell_type": "markdown",
   "metadata": {},
   "source": [
    "### Собственные исключения\n",
    "\n",
    "Наследуем свой класс от ```Exception```"
   ]
  },
  {
   "cell_type": "code",
   "execution_count": null,
   "metadata": {},
   "outputs": [],
   "source": [
    "class NonAdminError(Exception):\n",
    "    ...\n",
    "\n",
    "admins = {\"Peter\", \"Yaroslav\", \"Artem\", \"Andrew\", \"Stepan\"}\n",
    "person = input(\"Введите имя администратора: \")\n",
    "if person not in admins:\n",
    "    raise NonAdminError(\"У вас нет доступа к этому функционалу\")\n",
    "print(person, \"- администратор курса\")"
   ]
  },
  {
   "cell_type": "markdown",
   "metadata": {},
   "source": [
    "## Работа с файлами. Контекстный менеджер\n",
    "\n",
    "\n",
    ">«Контекстные менеджеры в Python — это удивительный механизм, который позволяет гарантировать корректное управление ресурсами и обеспечивать безопасное выполнение кода.» — Гвидо ван Россум, великодушный пожизненный диктатор Python."
   ]
  },
  {
   "cell_type": "code",
   "execution_count": null,
   "metadata": {},
   "outputs": [],
   "source": [
    "f = open(\"input.txt\", \"r\", encoding=\"utf-8\")\n",
    "\n",
    "res = f.readlines()\n",
    "print(res)\n",
    "f.close()\n",
    "# try:\n",
    "#     # Действия с файлом\n",
    "#     content = file.read()\n",
    "#     print(content)\n",
    "# finally:\n",
    "#     file.close()"
   ]
  },
  {
   "cell_type": "code",
   "execution_count": null,
   "metadata": {},
   "outputs": [],
   "source": [
    "with open(\"example.txt\", \"r\") as f: # с контекстным менеджером\n",
    "    content = f.read()\n",
    "    print(content)\n",
    "    \n",
    "print(123)\n",
    "# --> file.close()"
   ]
  },
  {
   "cell_type": "markdown",
   "metadata": {},
   "source": [
    "### Работа с csv\n",
    "\n",
    "CSV (Comma Separated Values) - это текстовый формат файла, используемый для хранения табличных данных."
   ]
  },
  {
   "cell_type": "code",
   "execution_count": null,
   "metadata": {},
   "outputs": [],
   "source": [
    "from collections import defaultdict # пример, если не знаете, как работать с csv\n",
    "\n",
    "su_classes = defaultdict(int)\n",
    "cnt_classes = defaultdict(int)\n",
    "avg_classes = defaultdict(float)\n",
    "\n",
    "with open(\"data/students.csv\", \"r\", encoding=\"UTF-8\") as f:\n",
    "    head = f.readline().rstrip()\n",
    "    rows = []\n",
    "    for row in f.readlines():\n",
    "        row = row.rstrip().split(\",\")\n",
    "        rows.append(row)\n",
    "        if row[1].startswith(\"Хадаров Владимир\"):\n",
    "            # print(row)\n",
    "            print(f'Ты получил: {row[-1]}, за проект - {row[-3]}')\n",
    "        if row[-1] != \"None\":\n",
    "            cnt_classes[row[-2]] += 1\n",
    "            su_classes[row[-2]] += int(row[-1])\n",
    "            \n",
    "for classes in cnt_classes.keys():\n",
    "    avg_classes[classes] = round(su_classes[classes] / cnt_classes[classes], 3)\n",
    "\n",
    "\n",
    "with open(\"data/students_new.csv\", \"w\", encoding=\"UTF-8\") as f:\n",
    "    print(head, file=f)\n",
    "    for row in rows:\n",
    "        if row[-1] == \"None\":\n",
    "            row[-1] = avg_classes[row[-2]]\n",
    "        print(*row, sep=',', file=f)\n",
    "        "
   ]
  },
  {
   "cell_type": "code",
   "execution_count": null,
   "metadata": {},
   "outputs": [],
   "source": [
    "import csv\n",
    "\n",
    "su = dict()\n",
    "cnt = dict()\n",
    "\n",
    "with open(\"data/students.csv\", \"r\") as csv_file:\n",
    "    reader = csv.reader(csv_file, delimiter=\",\")\n",
    "    next(reader)\n",
    "    for row in reader:\n",
    "        print(row)\n",
    "    \n",
    "with open(\"data/students_new.csv\", \"w\") as csv_file:\n",
    "    w = csv.writer(csv_file, delimiter=\",\")\n",
    "    w.writerow(reader[0])"
   ]
  },
  {
   "cell_type": "markdown",
   "metadata": {},
   "source": [
    "### Найти учеников 10-го класса с лучшим рейтингом "
   ]
  },
  {
   "cell_type": "code",
   "execution_count": null,
   "metadata": {},
   "outputs": [],
   "source": [
    "import csv\n",
    "\n",
    "with open(\"data/students.csv\", \"r\") as csv_file:\n",
    "    reader = csv.reader(csv_file, delimiter=',')\n",
    "    data = list(reader)[1::]\n",
    "\n",
    "    \n",
    "    sorted_answer = data.copy()\n",
    "    for ind in range(len(sorted_answer)):\n",
    "        if sorted_answer[ind][-1] == \"None\":\n",
    "            sorted_answer[ind][-1] = 0\n",
    "        else:\n",
    "            sorted_answer[ind][-1] = int(sorted_answer[ind][-1])\n",
    "            \n",
    "        if '10' not in sorted_answer[ind][-2]:\n",
    "            sorted_answer[ind][-1] = 0\n",
    "    \n",
    "    sorted_answer.sort(key=lambda x: (x[-1], x[1]), reverse=True)\n",
    "    print(sorted_answer)\n",
    "\n",
    "print(\"10 класс:\")\n",
    "for num, row in enumerate(sorted_answer[:3:], start=1, ):\n",
    "    people = row[1].split()\n",
    "    print(f'{num} место: {people[1][0]}. {people[0]}')\n",
    "            \n",
    "            "
   ]
  }
 ],
 "metadata": {
  "kernelspec": {
   "display_name": "Python 3",
   "language": "python",
   "name": "python3"
  },
  "language_info": {
   "codemirror_mode": {
    "name": "ipython",
    "version": 3
   },
   "file_extension": ".py",
   "mimetype": "text/x-python",
   "name": "python",
   "nbconvert_exporter": "python",
   "pygments_lexer": "ipython3",
   "version": "3.11.7"
  }
 },
 "nbformat": 4,
 "nbformat_minor": 2
}
