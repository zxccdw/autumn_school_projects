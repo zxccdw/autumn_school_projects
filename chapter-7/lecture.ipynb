{
 "cells": [
  {
   "cell_type": "markdown",
   "metadata": {},
   "source": [
    "### Полезные команды pip"
   ]
  },
  {
   "cell_type": "markdown",
   "metadata": {},
   "source": [
    "- `pip freeze`  # получение текущих версий пакетов,\n",
    "- `pip install -r requirements.txt`  # установка из файла\n",
    "- `pip install -U numpy`  # обновление\n",
    "- `pip install git+https://github.com/teadove/teleout`  # установка с гита"
   ]
  },
  {
   "cell_type": "markdown",
   "metadata": {},
   "source": [
    "## Сети. Модель OSI"
   ]
  },
  {
   "cell_type": "markdown",
   "metadata": {},
   "source": [
    "Передача информации по сети между клиентом (устройством, запращивающим услугу) и сервером (устройстов, предоставляющим услугу) - сложный многоуровневый процесс. Для его работы требовалось стандартизировать и ввести соответсвующие протоколы для всех уровней взаимодействия устройств – от побитовой передачи до клиент-серверного взаимодействия. \n",
    "\n",
    "Для описания этого процесса придумали эталонную модель взаимодействия открытых систем OSI (Open Systems Interconnection reference model)."
   ]
  },
  {
   "cell_type": "markdown",
   "metadata": {},
   "source": [
    "![image.png](data/osi-network-model-layers.svg)"
   ]
  },
  {
   "cell_type": "markdown",
   "metadata": {},
   "source": [
    "К счастью, для разработки не требуется экспертное знание всех представленных протоколов. "
   ]
  },
  {
   "cell_type": "markdown",
   "metadata": {},
   "source": [
    "### UDP vs TCP\n",
    "UDP быстрее, чем TCP, потому что пользователю не нужно разрешать или подтверждать получение данных перед отправкой следующего пакета. Поэтому через протокол UDP и установка соединения, и передача данных происходит быстрее."
   ]
  },
  {
   "cell_type": "markdown",
   "metadata": {},
   "source": [
    "## HTTP"
   ]
  },
  {
   "cell_type": "markdown",
   "metadata": {},
   "source": [
    "На прикладном уровне представлены 2 протокола, часто используемых протокола в Backend разработке: WebSocket и HTTP (HyperText Transfer Protocol, протокол передачи гипертекста). \n",
    "\n",
    "О последнем мы поговорим более подробно. "
   ]
  },
  {
   "cell_type": "markdown",
   "metadata": {},
   "source": [
    "Протокол HTTP работает по принципу «запрос — ответ». Он создавался для передачи гипертекстовых документов формата HTML (веб-страницы), однако в настоящее время используется для обмена произвольными данными: графическими и видеофайлами, документами и т. д. В протоколе описаны виды запросов, правила формирования запросов и возможные варианты ответов на запросы.\n",
    "."
   ]
  },
  {
   "cell_type": "markdown",
   "metadata": {},
   "source": [
    "### HTTP Requests"
   ]
  },
  {
   "cell_type": "markdown",
   "metadata": {},
   "source": [
    "Структура HTTP Request:\n",
    "1. Method (GET, POST, PUT, ...)\n",
    "2. URI\n",
    "3. Version (HTTP/1.1)\n",
    "4. HTTP-заголовки (Headers)\n",
    "5. Тело сообщения (опционально)\n",
    "   \n",
    "![image.png](data/http-message-anatomy.svg)"
   ]
  },
  {
   "cell_type": "markdown",
   "metadata": {},
   "source": [
    "В протоколе HTTP описаны различные виды запросов (Requests): \n",
    "на получение данных (GET), на передачу данных (POST), на добавление и изменение данных (PUT), на удаление данных (DELETE) и др."
   ]
  },
  {
   "cell_type": "markdown",
   "metadata": {},
   "source": [
    "### HTTP Responce"
   ]
  },
  {
   "cell_type": "markdown",
   "metadata": {},
   "source": [
    "![image](https://media.geeksforgeeks.org/wp-content/uploads/20210905094321/StructureOfAHTTPResponse-660x374.png)"
   ]
  },
  {
   "cell_type": "markdown",
   "metadata": {},
   "source": [
    "Ответы (Responce в протоколе HTTP имеют коды состояния, которые представляют собой числовые значения. По коду состояния всегда можно определить, верно ли был обработан запрос или произошла ошибка.\n",
    "\n",
    "![image.png](data/status_codes.png)"
   ]
  },
  {
   "cell_type": "markdown",
   "metadata": {},
   "source": [
    "### Способы передачи данных\n",
    "\n",
    "1. HTTP Query\n",
    "![image.png](data/http_query.png)\n",
    "2. Path Param"
   ]
  },
  {
   "cell_type": "markdown",
   "metadata": {},
   "source": [
    "## JSON"
   ]
  },
  {
   "cell_type": "markdown",
   "metadata": {},
   "source": [
    "JSON (JavaScript Object Notation) — стандартный текстовый формат для хранения и передачи структурированных данных. Он основан на синтаксисе объекта в JavaScript: данные представлены в виде пар ключ:значение (map) или набор значений (array)"
   ]
  },
  {
   "cell_type": "markdown",
   "metadata": {},
   "source": [
    "Ключи - только строки.\n",
    "\n",
    "Значения могут быть следующих типов:\n",
    "\n",
    "Python|JSON\n",
    "------|-----\n",
    "dict|object\n",
    "list, tuple|array\n",
    "str|string\n",
    "int, float|number\n",
    "True|true\n",
    "False|false\n",
    "None|null"
   ]
  },
  {
   "cell_type": "code",
   "execution_count": null,
   "metadata": {},
   "outputs": [],
   "source": [
    "# чтение json из файла\n",
    "import json\n",
    "\n",
    "with open(\"example.json\") as f:\n",
    "    data = json.load(f)\n",
    "data"
   ]
  },
  {
   "cell_type": "code",
   "execution_count": null,
   "metadata": {},
   "outputs": [],
   "source": [
    "# чтение json из строки\n",
    "import json\n",
    "\n",
    "data = json.loads('[\"key1\", 123, null]')\n",
    "print(data)"
   ]
  },
  {
   "cell_type": "code",
   "execution_count": null,
   "metadata": {},
   "outputs": [],
   "source": [
    "# запись в файл\n",
    "import json\n",
    "\n",
    "to_json = {\"key1\": \"value1\", \"key2\": \"value2\", \"key3\": \"value3\"}\n",
    "with open(\"output.json\", \"w\") as f:\n",
    "    f.write(json.dumps(to_json))"
   ]
  },
  {
   "cell_type": "code",
   "execution_count": null,
   "metadata": {},
   "outputs": [],
   "source": [
    "# запись в json строку\n",
    "import json\n",
    "\n",
    "data = json.dumps('[\"key1\", 123, null]')\n",
    "print(data)"
   ]
  },
  {
   "cell_type": "markdown",
   "metadata": {},
   "source": [
    "## Requests"
   ]
  },
  {
   "cell_type": "code",
   "execution_count": null,
   "metadata": {},
   "outputs": [],
   "source": [
    "# !pip install requests\n",
    "import requests\n",
    "\n",
    "r = requests.get(\"https://www.google.com/\", params={\"q\": \"Python за 5 секунд\"})\n",
    "r.request.url"
   ]
  },
  {
   "cell_type": "code",
   "execution_count": null,
   "metadata": {},
   "outputs": [],
   "source": [
    "r = requests.get(\"https://www.google.com/\", params={\"q\": \"Python за 5 секунд\"}, headers={\"accept\": \"application/json\"})\n",
    "r.request.headers"
   ]
  },
  {
   "cell_type": "code",
   "execution_count": null,
   "metadata": {},
   "outputs": [],
   "source": [
    "import requests\n",
    "\n",
    "r = requests.get(\"https://www.google.com/\")\n",
    "for header in r.headers:\n",
    "    print(f\"{header}: {r.headers[header]}\", end=\"\\n\\n\")\n",
    "print(r.status_code)"
   ]
  },
  {
   "cell_type": "markdown",
   "metadata": {},
   "source": [
    "## BS4 для анализа контента страницы\n",
    "****** \n",
    "\n",
    "Мы можем использовать библиотеку BeautifulSoup для разбора этого документа и извлечения текста из pтега.\n",
    "\n",
    "Сначала нам нужно импортировать библиотеку и создать экземпляр BeautifulSoup класса для анализа нашего документа:"
   ]
  },
  {
   "cell_type": "code",
   "execution_count": null,
   "metadata": {},
   "outputs": [],
   "source": [
    "import requests\n",
    "page = requests.get(\"https://dataquestio.github.io/web-scraping-pages/simple.html\")\n",
    "page.content"
   ]
  },
  {
   "cell_type": "code",
   "execution_count": null,
   "metadata": {},
   "outputs": [],
   "source": [
    "from bs4 import BeautifulSoup\n",
    "soup = BeautifulSoup(page.content, 'html.parser')"
   ]
  },
  {
   "cell_type": "markdown",
   "metadata": {},
   "source": [
    "Теперь мы можем распечатать HTML-содержимое страницы, красиво отформатированное, используя prettify метод для BeautifulSoup объекта."
   ]
  },
  {
   "cell_type": "code",
   "execution_count": null,
   "metadata": {},
   "outputs": [],
   "source": [
    "print(soup.prettify())"
   ]
  },
  {
   "cell_type": "markdown",
   "metadata": {},
   "source": [
    "Этот шаг не является строго обязательным, и мы не всегда будем с ним связываться, но может быть полезно взглянуть на преттифицированный HTML, чтобы было легче увидеть структуру тегов и места их вложения.\n",
    "Поскольку все теги вложены друг в друга, мы можем перемещаться по структуре по одному уровню за раз. Мы можем сначала выбрать все элементы на верхнем уровне страницы, используя childrenсвойство soup.\n",
    "\n",
    "Обратите внимание, что childrenвозвращается генератор списка, поэтому нам нужно вызвать для него listфункцию:"
   ]
  },
  {
   "cell_type": "code",
   "execution_count": null,
   "metadata": {},
   "outputs": [],
   "source": [
    "list(soup.children)"
   ]
  },
  {
   "cell_type": "markdown",
   "metadata": {},
   "source": [
    "Вышеизложенное говорит нам о том, что на верхнем уровне страницы есть два тега — начальный <!DOCTYPE html>тег и <html> тег. В списке также есть символ новой строки n. Давайте посмотрим, каков тип каждого элемента в списке:"
   ]
  },
  {
   "cell_type": "code",
   "execution_count": null,
   "metadata": {},
   "outputs": [],
   "source": [
    "[type(item) for item in list(soup.children)]"
   ]
  },
  {
   "cell_type": "markdown",
   "metadata": {},
   "source": [
    "Как мы видим, все элементы являются BeautifulSoupобъектами:\n",
    "\n",
    "* Первый — это Doctypeобъект, который содержит информацию о типе документа.\n",
    "* Второй — это NavigableString, который представляет текст, найденный в HTML-документе.\n",
    "* Последний элемент — это Tag объект, который содержит другие вложенные теги.\n",
    "\n",
    "Наиболее важным типом объекта, с которым мы будем иметь дело чаще всего, является Tag объект.\n",
    "\n",
    "Объект Tag позволяет нам перемещаться по HTML-документу и извлекать другие теги и текст. Вы можете узнать больше о различных BeautifulSoup объектах [здесь](https://www.crummy.com/software/BeautifulSoup/bs4/doc/#kinds-of-objects).\n",
    "\n",
    "Теперь мы можем выбрать html тег и его дочерние элементы, взяв третий элемент в списке:"
   ]
  },
  {
   "cell_type": "code",
   "execution_count": null,
   "metadata": {},
   "outputs": [],
   "source": [
    "html = list(soup.children)[2]"
   ]
  },
  {
   "cell_type": "markdown",
   "metadata": {},
   "source": [
    "Каждый элемент в списке, возвращаемом children свойством, также является BeautifulSoup объектом, поэтому мы также можем вызывать children метод для html.\n",
    "\n",
    "Теперь мы можем найти детей внутри html тега:"
   ]
  },
  {
   "cell_type": "code",
   "execution_count": null,
   "metadata": {},
   "outputs": [],
   "source": [
    "list(html.children)"
   ]
  },
  {
   "cell_type": "markdown",
   "metadata": {},
   "source": [
    "Как мы видим выше, здесь есть два тега head, и body. Мы хотим извлечь текст внутри p тега, поэтому мы углубимся в тело:"
   ]
  },
  {
   "cell_type": "code",
   "execution_count": null,
   "metadata": {},
   "outputs": [],
   "source": [
    "body = list(html.children)[3]\n",
    "list(body.children)"
   ]
  },
  {
   "cell_type": "markdown",
   "metadata": {},
   "source": [
    "Теперь мы можем изолировать тег p:"
   ]
  },
  {
   "cell_type": "code",
   "execution_count": null,
   "metadata": {},
   "outputs": [],
   "source": [
    "p = list(body.children)[1]\n",
    "p.get_text()"
   ]
  },
  {
   "cell_type": "markdown",
   "metadata": {},
   "source": [
    "Как только мы изолировали тег, мы можем использовать get_text метод для извлечения всего текста внутри тега"
   ]
  },
  {
   "cell_type": "markdown",
   "metadata": {},
   "source": [
    "#### Поиск всех экземпляров тега одновременно\n",
    "То, что мы сделали выше, было полезно для выяснения того, как перемещаться по странице, но потребовалось много команд, чтобы сделать что-то довольно простое.\n",
    "\n",
    "Если мы хотим извлечь один тег, мы можем вместо этого использовать find_all метод, который найдет все экземпляры тега на странице.\n",
    "Обратите внимание, что find_all возвращается список"
   ]
  },
  {
   "cell_type": "code",
   "execution_count": null,
   "metadata": {},
   "outputs": [],
   "source": [
    "soup = BeautifulSoup(page.content, 'html.parser')\n",
    "soup.find_all('p')"
   ]
  },
  {
   "cell_type": "markdown",
   "metadata": {},
   "source": [
    "Если вместо этого вы хотите найти только первый экземпляр тега, вы можете использовать find метод, который вернет один BeautifulSoup объект:"
   ]
  },
  {
   "cell_type": "code",
   "execution_count": null,
   "metadata": {},
   "outputs": [],
   "source": [
    "soup.find('p')"
   ]
  },
  {
   "cell_type": "markdown",
   "metadata": {},
   "source": [
    "#### Поиск тегов по классу и id\n",
    "Мы представили классы и идентификаторы ранее, но, вероятно, было неясно, почему они были полезны.\n",
    "\n",
    "Классы и идентификаторы используются CSS для определения того, к каким элементам HTML следует применять определенные стили. Но когда мы очищаем, мы также можем использовать их для указания элементов, которые мы хотим очистить.\n",
    "\n",
    "Чтобы проиллюстрировать этот принцип, мы будем работать со следующей страницей:"
   ]
  },
  {
   "cell_type": "code",
   "execution_count": null,
   "metadata": {},
   "outputs": [],
   "source": [
    "page = requests.get(\"https://dataquestio.github.io/web-scraping-pages/ids_and_classes.html\")\n",
    "soup = BeautifulSoup(page.content, 'html.parser')\n",
    "print(soup.prettify())"
   ]
  },
  {
   "cell_type": "markdown",
   "metadata": {},
   "source": [
    "Мы можем использовать find_all метод для поиска элементов по классу или по идентификатору. В приведенном ниже примере мы будем искать любой p тег, который имеет класс outer-text:"
   ]
  },
  {
   "cell_type": "code",
   "execution_count": null,
   "metadata": {},
   "outputs": [],
   "source": [
    "soup.find_all('p', class_='outer-text')"
   ]
  },
  {
   "cell_type": "markdown",
   "metadata": {},
   "source": [
    "Мы также можем искать элементы по id:"
   ]
  },
  {
   "cell_type": "code",
   "execution_count": null,
   "metadata": {},
   "outputs": [],
   "source": [
    "soup.find_all(id=\"first\")"
   ]
  },
  {
   "cell_type": "markdown",
   "metadata": {},
   "source": [
    "Мы также можем искать элементы с помощью селекторов CSS. Эти селекторы — это то, как язык CSS позволяет разработчикам указывать теги HTML для стиля. Вот некоторые примеры:\n",
    "\n",
    "* p a — находит все a теги внутри p тега.\n",
    "* body p a — находит все a теги внутри p тега внутри body тега.\n",
    "* html body — находит все body теги внутри html тега.\n",
    "* p.outer-text — находит все p теги с классом outer-text.\n",
    "* p#first — находит все p теги с id first.\n",
    "* body p.outer-text — находит любые p теги с классом outer-text внутри body тега.\n",
    "\n",
    "Подробнее о селекторах CSS можно узнать [здесь](https://developer.mozilla.org/en-US/docs/Web/Guide/CSS/Getting_started/Selectors)\n",
    "\n",
    "BeautifulSoup объекты поддерживают поиск на странице с помощью селекторов CSS с использованием select метода. Мы можем использовать селекторы CSS, чтобы найти все p теги на нашей странице, которые находятся внутри div вот так:"
   ]
  },
  {
   "cell_type": "code",
   "execution_count": null,
   "metadata": {},
   "outputs": [],
   "source": [
    "soup.select(\"div p\")"
   ]
  },
  {
   "cell_type": "markdown",
   "metadata": {},
   "source": [
    "https://tvil.ru\n",
    "\n",
    "Разобраться с сайтом.\n",
    "1) Получить 50 отелей в Владивостоке\n",
    "2) Получить 25 отелей, доступных для бронирования с 14 по 15 декабря для 1 взрослого в Владивостоке\n",
    "3) Сделать универсальное решение для п.2 (дата будет выбираться)"
   ]
  },
  {
   "cell_type": "markdown",
   "metadata": {},
   "source": [
    "## Скоро тут появится бонусный раздел"
   ]
  }
 ],
 "metadata": {
  "kernelspec": {
   "display_name": "kokoc",
   "language": "python",
   "name": "python3"
  },
  "language_info": {
   "codemirror_mode": {
    "name": "ipython",
    "version": 3
   },
   "file_extension": ".py",
   "mimetype": "text/x-python",
   "name": "python",
   "nbconvert_exporter": "python",
   "pygments_lexer": "ipython3",
   "version": "3.9.20"
  }
 },
 "nbformat": 4,
 "nbformat_minor": 2
}
