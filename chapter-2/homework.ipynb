{
 "cells": [
  {
   "cell_type": "markdown",
   "metadata": {},
   "source": [
    "### №0. Вспомним задачу семинара. \n",
    "\n",
    "Выведите все степени двойки то `start` до `end`\n",
    "Даны два целых числа 1 <= a, b <= 500\n",
    "\n",
    "Формат вывода: $2^{a}$ $2^{a+1}$ ... $2^{b}$.\n"
   ]
  },
  {
   "cell_type": "markdown",
   "metadata": {},
   "source": [
    "```bash\n",
    "5 13\n",
    "```"
   ]
  },
  {
   "cell_type": "markdown",
   "metadata": {},
   "source": [
    "```bash\n",
    "32\n",
    "64\n",
    "128\n",
    "256\n",
    "512\n",
    "1024\n",
    "2048\n",
    "4096\n",
    "8192\n",
    "```"
   ]
  },
  {
   "cell_type": "code",
   "execution_count": null,
   "metadata": {},
   "outputs": [],
   "source": []
  },
  {
   "cell_type": "markdown",
   "metadata": {},
   "source": [
    "### №1. Степени двойки.\n",
    "\n",
    "Теперь выведите все степени двойки в диапазоне от [l, r] включительно\n",
    "\n",
    "Входные данные: \n",
    "\n",
    "$1<=l<=r<=10^7$\n",
    "\n",
    "Выведите все числа в одну строку через пробел.\n",
    "\n"
   ]
  },
  {
   "cell_type": "markdown",
   "metadata": {},
   "source": [
    "```bash\n",
    "9 512\n",
    "```"
   ]
  },
  {
   "cell_type": "markdown",
   "metadata": {},
   "source": [
    "```bash\n",
    "16\n",
    "32\n",
    "64\n",
    "128\n",
    "256\n",
    "512\n",
    "```\n"
   ]
  },
  {
   "cell_type": "code",
   "execution_count": null,
   "metadata": {},
   "outputs": [],
   "source": []
  },
  {
   "cell_type": "markdown",
   "metadata": {},
   "source": [
    "### №2. Делители числа.\n",
    "Выведите все делители числа от 1 до $n$ включительно.\n",
    "\n",
    "Входные данные:\n",
    "$1<=n<=10^7$\n",
    "\n",
    "*Будьте аккуратны с квадратами"
   ]
  },
  {
   "cell_type": "markdown",
   "metadata": {},
   "source": [
    "```bash\n",
    "21\n",
    "```\n",
    "```bash\n",
    "1 3 7 21\n",
    "```"
   ]
  },
  {
   "cell_type": "code",
   "execution_count": null,
   "metadata": {},
   "outputs": [],
   "source": []
  },
  {
   "cell_type": "markdown",
   "metadata": {},
   "source": [
    "### №3. Високосный год.\n",
    "\n",
    "По номеру года определите, является ли данный год високосным.\n",
    "\n",
    "Напомним, что високосными являются года, номера которых кратны 4, но не кратны 100, а также года, номера которых кратны 400\n",
    "\n",
    "Выведите `Да` или `Нет` в зависимости от ответа на вопрос задачи.\n",
    "\n",
    "Входные данные:\n",
    "```bash\n",
    "2007\n",
    "```\n",
    "\n",
    "Результат:\n",
    "```bash\n",
    "Да\n",
    "```"
   ]
  },
  {
   "cell_type": "code",
   "execution_count": null,
   "metadata": {},
   "outputs": [],
   "source": []
  }
 ],
 "metadata": {
  "kernelspec": {
   "display_name": "Python 3",
   "language": "python",
   "name": "python3"
  },
  "language_info": {
   "codemirror_mode": {
    "name": "ipython",
    "version": 3
   },
   "file_extension": ".py",
   "mimetype": "text/x-python",
   "name": "python",
   "nbconvert_exporter": "python",
   "pygments_lexer": "ipython3",
   "version": "3.11.7"
  }
 },
 "nbformat": 4,
 "nbformat_minor": 2
}
