{
 "cells": [
  {
   "cell_type": "markdown",
   "metadata": {},
   "source": [
    "### Ввод через консоль\n",
    "Для ввода данных в программу используется функция input(), которая считывает строку до пробела"
   ]
  },
  {
   "cell_type": "code",
   "execution_count": 4,
   "metadata": {},
   "outputs": [
    {
     "data": {
      "text/plain": [
       "'123123'"
      ]
     },
     "execution_count": 4,
     "metadata": {},
     "output_type": "execute_result"
    }
   ],
   "source": [
    "a = input()\n",
    "a + a"
   ]
  },
  {
   "cell_type": "code",
   "execution_count": null,
   "metadata": {},
   "outputs": [],
   "source": [
    "# Чтобы получить на вход какое-либо значение другого\n",
    "# типа, используете input вместе с соотвествующей функцией\n",
    "a = int(input())  # выдаст Int\n",
    "a"
   ]
  },
  {
   "cell_type": "code",
   "execution_count": 6,
   "metadata": {},
   "outputs": [
    {
     "data": {
      "text/plain": [
       "('123 54', ['123', '54'])"
      ]
     },
     "execution_count": 6,
     "metadata": {},
     "output_type": "execute_result"
    }
   ],
   "source": [
    "# Если необходимо ввести несколько значений,\n",
    "# можно использовать split('sep'), который делит строку 'sep' - по умолчанию пробел\n",
    "# на массив строк по пробелам\n",
    "a = input()\n",
    "b = a.split()\n",
    "a, b"
   ]
  },
  {
   "cell_type": "markdown",
   "metadata": {},
   "source": [
    "### Типы данных\n",
    "\n",
    "Основные типы данных:\n"
   ]
  },
  {
   "cell_type": "markdown",
   "metadata": {},
   "source": [
    "#### 1. Int - целочисленный тип.<br>\n"
   ]
  },
  {
   "cell_type": "code",
   "execution_count": 8,
   "metadata": {},
   "outputs": [
    {
     "data": {
      "text/plain": [
       "(9, 40, 7, -66)"
      ]
     },
     "execution_count": 8,
     "metadata": {},
     "output_type": "execute_result"
    }
   ],
   "source": [
    "a = 9\n",
    "b = 4 * 10  # можно сразу присваивать выражение\n",
    "c = 10 - 3\n",
    "d = -66\n",
    "a, b, c, d"
   ]
  },
  {
   "cell_type": "code",
   "execution_count": 9,
   "metadata": {},
   "outputs": [
    {
     "data": {
      "text/plain": [
       "(3, 5)"
      ]
     },
     "execution_count": 9,
     "metadata": {},
     "output_type": "execute_result"
    }
   ],
   "source": [
    "# Операторы\n",
    "# Cложения и вычитания\n",
    "2 + 1, 9 - 4"
   ]
  },
  {
   "cell_type": "code",
   "execution_count": 10,
   "metadata": {},
   "outputs": [
    {
     "data": {
      "text/plain": [
       "(16, 3, 5.0)"
      ]
     },
     "execution_count": 10,
     "metadata": {},
     "output_type": "execute_result"
    }
   ],
   "source": [
    "# Умножения и целочисленного деления\n",
    "a = 8 * 2\n",
    "b = 10 // 3\n",
    "# Существует также обычное деление,\n",
    "# но оно всегда возвращает тип float\n",
    "c = 10 / 2\n",
    "a, b, c"
   ]
  },
  {
   "cell_type": "code",
   "execution_count": null,
   "metadata": {},
   "outputs": [],
   "source": [
    "# Взятия остатка и возведения в степень\n",
    "10 % 3, 9**3"
   ]
  },
  {
   "cell_type": "markdown",
   "metadata": {},
   "source": [
    "#### 2. Float - число с плавающей точкой  "
   ]
  },
  {
   "cell_type": "code",
   "execution_count": 11,
   "metadata": {},
   "outputs": [
    {
     "data": {
      "text/plain": [
       "(4000.0, 38.22, 3.142857142857143)"
      ]
     },
     "execution_count": 11,
     "metadata": {},
     "output_type": "execute_result"
    }
   ],
   "source": [
    "a = 4000.0\n",
    "b = 4.2 * 9.1\n",
    "c = 22.0 / 7\n",
    "a, b, c"
   ]
  },
  {
   "cell_type": "code",
   "execution_count": 12,
   "metadata": {},
   "outputs": [
    {
     "data": {
      "text/plain": [
       "0.30000000000000004"
      ]
     },
     "execution_count": 12,
     "metadata": {},
     "output_type": "execute_result"
    }
   ],
   "source": [
    "0.2 + 0.1"
   ]
  },
  {
   "cell_type": "code",
   "execution_count": 13,
   "metadata": {},
   "outputs": [
    {
     "data": {
      "text/plain": [
       "3.3333333333333335"
      ]
     },
     "execution_count": 13,
     "metadata": {},
     "output_type": "execute_result"
    }
   ],
   "source": [
    "# У Float операторы аналогичны операторам int, за исключением:\n",
    "# Деление\n",
    "10.0 / 3.0"
   ]
  },
  {
   "cell_type": "code",
   "execution_count": 16,
   "metadata": {},
   "outputs": [
    {
     "data": {
      "text/plain": [
       "inf"
      ]
     },
     "execution_count": 16,
     "metadata": {},
     "output_type": "execute_result"
    }
   ],
   "source": [
    "a = float('inf') # создание переменной с \"бесконечным\" значением\n",
    "a"
   ]
  },
  {
   "cell_type": "markdown",
   "metadata": {},
   "source": [
    "#### 3. Bool - логический тип, может принимать только True(правда) или False(ложь)  "
   ]
  },
  {
   "cell_type": "code",
   "execution_count": null,
   "metadata": {},
   "outputs": [],
   "source": [
    "a = True\n",
    "b = False\n",
    "c = b or a  # or - дизъюнкция, логическое ИЛИ\n",
    "a, b, c"
   ]
  },
  {
   "cell_type": "code",
   "execution_count": 18,
   "metadata": {},
   "outputs": [
    {
     "data": {
      "text/plain": [
       "(True, False, False)"
      ]
     },
     "execution_count": 18,
     "metadata": {},
     "output_type": "execute_result"
    }
   ],
   "source": [
    "# Операторы\n",
    "a = True or False  # дизъюнкция, логическое ИЛИ\n",
    "b = True and False  # конъюнкция, логическо И\n",
    "c = not True  # логическое отрицание\n",
    "\n",
    "\n",
    "a, b, c"
   ]
  },
  {
   "cell_type": "code",
   "execution_count": 29,
   "metadata": {},
   "outputs": [
    {
     "data": {
      "text/plain": [
       "4"
      ]
     },
     "execution_count": 29,
     "metadata": {},
     "output_type": "execute_result"
    }
   ],
   "source": [
    "a = 4\n",
    "b = 5\n",
    "\n",
    "a.__sub__(b)\n",
    "a"
   ]
  },
  {
   "cell_type": "markdown",
   "metadata": {},
   "source": [
    "#### 4. Str - строковый тип, может быть любой длины."
   ]
  },
  {
   "cell_type": "code",
   "execution_count": 30,
   "metadata": {},
   "outputs": [
    {
     "data": {
      "text/plain": [
       "(\"Hello, 'my' World\", 'Hello, \"User\"', 'Very\\nLong\\nText\\n')"
      ]
     },
     "execution_count": 30,
     "metadata": {},
     "output_type": "execute_result"
    }
   ],
   "source": [
    "# Записывается через кавычки, как одинарные и двойные, так и тройные\n",
    "a = \"Hello, 'my' World\"\n",
    "\n",
    "# можно миксовать кавычки\n",
    "b = 'Hello, \"User\"'\n",
    "\n",
    "# Тройные кавычки позволяют писать длинно\n",
    "c = \"\"\"Very\n",
    "Long\n",
    "Text\n",
    "\"\"\"\n",
    "a, b, c"
   ]
  },
  {
   "cell_type": "code",
   "execution_count": 31,
   "metadata": {},
   "outputs": [
    {
     "data": {
      "text/plain": [
       "('Hello World', 'HelloHello')"
      ]
     },
     "execution_count": 31,
     "metadata": {},
     "output_type": "execute_result"
    }
   ],
   "source": [
    "# Операторы\n",
    "a = \"Hello\" + \" World\"  # конкатенация, то есть сложение строк\n",
    "b = \"Hello\" * 2 # то же сложение\n",
    "a, b"
   ]
  },
  {
   "cell_type": "code",
   "execution_count": 32,
   "metadata": {},
   "outputs": [
    {
     "data": {
      "text/plain": [
       "('H', 'l')"
      ]
     },
     "execution_count": 32,
     "metadata": {},
     "output_type": "execute_result"
    }
   ],
   "source": [
    "# Cлайсы и индексация\n",
    "# Индексация - взятие отдельного элемента по его индексу\n",
    "# Нумерация всегда начинается с нуля\n",
    "a = \"Hello, World\"\n",
    "a[0], a[2]  # 0 элемент в \"Hello Wolrd\" - H, 2 - l"
   ]
  },
  {
   "cell_type": "code",
   "execution_count": 33,
   "metadata": {},
   "outputs": [
    {
     "data": {
      "text/plain": [
       "'Hello'"
      ]
     },
     "execution_count": 33,
     "metadata": {},
     "output_type": "execute_result"
    }
   ],
   "source": [
    "# Слайсинг - получение подлиста или подстроки.\n",
    "# Формат: [начальный индекс : конечный (не включая) : шаг]\n",
    "# Например, нам нужно получить только слово Hello в \"Hello, World\"\n",
    "# , тогда начинаем с 0, заканчиваем 5 (0, 1, 2, 3, 4)\n",
    "\n",
    "a = \"H e l l o, World\"\n",
    "a[0:5]"
   ]
  },
  {
   "cell_type": "code",
   "execution_count": 37,
   "metadata": {},
   "outputs": [
    {
     "data": {
      "text/plain": [
       "'Hello, World'"
      ]
     },
     "execution_count": 37,
     "metadata": {},
     "output_type": "execute_result"
    }
   ],
   "source": [
    "a = \"Hello, World\"\n",
    "a[:5]  # Пустой первый аргумент автоматически заменяется на 0\n",
    "a[:1000]"
   ]
  },
  {
   "cell_type": "code",
   "execution_count": 42,
   "metadata": {},
   "outputs": [
    {
     "data": {
      "text/plain": [
       "'d'"
      ]
     },
     "execution_count": 42,
     "metadata": {},
     "output_type": "execute_result"
    }
   ],
   "source": [
    "a[::-10000]"
   ]
  },
  {
   "cell_type": "code",
   "execution_count": 45,
   "metadata": {},
   "outputs": [
    {
     "name": "stdout",
     "output_type": "stream",
     "text": [
      "5\n"
     ]
    },
    {
     "data": {
      "text/plain": [
       "('World', 'World')"
      ]
     },
     "execution_count": 45,
     "metadata": {},
     "output_type": "execute_result"
    }
   ],
   "source": [
    "# Отрицательные индекс считает с конца,\n",
    "# то есть заменяется на len(a) - 5, что равно 7\n",
    "a[-5:], a[7:]"
   ]
  },
  {
   "cell_type": "code",
   "execution_count": 48,
   "metadata": {},
   "outputs": [
    {
     "ename": "TypeError",
     "evalue": "'int' object is not subscriptable",
     "output_type": "error",
     "traceback": [
      "\u001b[0;31m---------------------------------------------------------------------------\u001b[0m",
      "\u001b[0;31mTypeError\u001b[0m                                 Traceback (most recent call last)",
      "Cell \u001b[0;32mIn[48], line 1\u001b[0m\n\u001b[0;32m----> 1\u001b[0m \u001b[43ma\u001b[49m\u001b[43m[\u001b[49m\u001b[43m:\u001b[49m\u001b[43m:\u001b[49m\u001b[38;5;241;43m-\u001b[39;49m\u001b[38;5;241;43m1\u001b[39;49m\u001b[43m]\u001b[49m  \u001b[38;5;66;03m# Такая запись повзоляет перевернуть строчку или лист\u001b[39;00m\n\u001b[1;32m      2\u001b[0m a \u001b[38;5;241m=\u001b[39m \u001b[38;5;241m4334534\u001b[39m\n",
      "\u001b[0;31mTypeError\u001b[0m: 'int' object is not subscriptable"
     ]
    }
   ],
   "source": [
    "a[::-1]  # Такая запись повзоляет перевернуть строчку или лист\n",
    "a = 4334534"
   ]
  },
  {
   "cell_type": "code",
   "execution_count": 49,
   "metadata": {},
   "outputs": [
    {
     "name": "stdout",
     "output_type": "stream",
     "text": [
      "4334534\n"
     ]
    }
   ],
   "source": [
    "print(a)"
   ]
  },
  {
   "cell_type": "markdown",
   "metadata": {},
   "source": [
    "``` sh\n",
    "+---+---+---+---+---+---+---+---+---+---+---+---+\n",
    "| P | y | t | h | o | n | P | y | t | h | o | n |\n",
    "+---+---+---+---+---+---+---+---+---+---+---+---+\n",
    " -6  -5  -4  -3  -2  -1   0   1   2   3   4   5\n",
    "```"
   ]
  },
  {
   "cell_type": "code",
   "execution_count": 51,
   "metadata": {},
   "outputs": [
    {
     "ename": "IndexError",
     "evalue": "Replacement index 2 out of range for positional args tuple",
     "output_type": "error",
     "traceback": [
      "\u001b[0;31m---------------------------------------------------------------------------\u001b[0m",
      "\u001b[0;31mIndexError\u001b[0m                                Traceback (most recent call last)",
      "Cell \u001b[0;32mIn[51], line 1\u001b[0m\n\u001b[0;32m----> 1\u001b[0m a \u001b[38;5;241m=\u001b[39m \u001b[38;5;124;43m\"\u001b[39;49m\u001b[38;5;124;43mПривет, \u001b[39;49m\u001b[38;5;132;43;01m{}\u001b[39;49;00m\u001b[38;5;124;43m, \u001b[39;49m\u001b[38;5;132;43;01m{}\u001b[39;49;00m\u001b[38;5;124;43m, \u001b[39;49m\u001b[38;5;132;43;01m{}\u001b[39;49;00m\u001b[38;5;124;43m\"\u001b[39;49m\u001b[38;5;241;43m.\u001b[39;49m\u001b[43mformat\u001b[49m\u001b[43m(\u001b[49m\u001b[38;5;124;43m\"\u001b[39;49m\u001b[38;5;124;43mMISIS\u001b[39;49m\u001b[38;5;124;43m\"\u001b[39;49m\u001b[43m,\u001b[49m\u001b[43m \u001b[49m\u001b[38;5;124;43m\"\u001b[39;49m\u001b[38;5;124;43mГ516\u001b[39;49m\u001b[38;5;124;43m\"\u001b[39;49m\u001b[43m)\u001b[49m\n\u001b[1;32m      2\u001b[0m a\n",
      "\u001b[0;31mIndexError\u001b[0m: Replacement index 2 out of range for positional args tuple"
     ]
    }
   ],
   "source": [
    "a = \"Привет, {}, {}, {}\".format(\"MISIS\", \"Г516\")\n",
    "a"
   ]
  },
  {
   "cell_type": "code",
   "execution_count": 52,
   "metadata": {},
   "outputs": [
    {
     "data": {
      "text/plain": [
       "'Привет, ITAM'"
      ]
     },
     "execution_count": 52,
     "metadata": {},
     "output_type": "execute_result"
    }
   ],
   "source": [
    "name = \"ITAM\"\n",
    "f\"Привет, {name}\""
   ]
  },
  {
   "cell_type": "code",
   "execution_count": 58,
   "metadata": {},
   "outputs": [
    {
     "name": "stdout",
     "output_type": "stream",
     "text": [
      "Антон\n",
      "Илья\n",
      "Астольфо\n",
      "Михаил\n"
     ]
    }
   ],
   "source": [
    "a = [\"Антон\", \"Илья\", \"Астольфо\", \"Михаил\"]\n",
    "print(\"\\n\".join(a))\n"
   ]
  },
  {
   "cell_type": "code",
   "execution_count": 59,
   "metadata": {},
   "outputs": [
    {
     "data": {
      "text/plain": [
       "['Длинный', 'длинный, текст,с,пробелами']"
      ]
     },
     "execution_count": 59,
     "metadata": {},
     "output_type": "execute_result"
    }
   ],
   "source": [
    "a = \"Длинный\\nдлинный, текст,с,пробелами\"\n",
    "a.split(\"\\n\")"
   ]
  },
  {
   "cell_type": "markdown",
   "metadata": {},
   "source": [
    "### Условные операторы\n",
    "\n",
    "Для управлением работы скрипта используются условные операторы, которые заставляют программу что-либо делать при каком-либо условие.  \n",
    "Формат:\n",
    "``` python\n",
    "if <условие>:\n",
    "    <блок кода> # Выполниться, если условие выше истинно\n",
    "[elif <условие>:\n",
    "    <блок кода>] # Выполниться, если выше условия НЕ истинны, а это истинно\n",
    "[else:\n",
    "    <блок кода>] # Выполниться, если все условия выше НЕ истинны\n",
    "```"
   ]
  },
  {
   "cell_type": "code",
   "execution_count": 61,
   "metadata": {},
   "outputs": [
    {
     "name": "stdout",
     "output_type": "stream",
     "text": [
      "Hi, Peter\n"
     ]
    }
   ],
   "source": [
    "# Примеры\n",
    "name_is = True\n",
    "if name_is:\n",
    "    print(\"Hi, Peter\")\n",
    "else:\n",
    "    print(\"Hi, User\")"
   ]
  },
  {
   "cell_type": "code",
   "execution_count": 65,
   "metadata": {},
   "outputs": [
    {
     "name": "stdout",
     "output_type": "stream",
     "text": [
      "???\n"
     ]
    }
   ],
   "source": [
    "a = 2 + 10\n",
    "if a == 4:\n",
    "    print(\"We live in society\")\n",
    "elif a == 5:\n",
    "    print(\"We live in oceania\")\n",
    "else:\n",
    "    print(\"???\")"
   ]
  },
  {
   "cell_type": "code",
   "execution_count": 69,
   "metadata": {},
   "outputs": [
    {
     "name": "stdout",
     "output_type": "stream",
     "text": [
      "0 - ложь\n"
     ]
    }
   ],
   "source": [
    "\"\"\"\n",
    "Работайте с if осторожно, если на вход подаётся тип данных, \n",
    "отличный от bool, происходит перевод к bool. \n",
    "При этом разные типы данных по разному возвращают истинность\n",
    "\"\"\"\n",
    "if 15435634:\n",
    "    print(\"0 - ложь\")\n",
    "elif 1:\n",
    "    print(\"1 - истинна\")"
   ]
  },
  {
   "cell_type": "code",
   "execution_count": 70,
   "metadata": {},
   "outputs": [
    {
     "name": "stdout",
     "output_type": "stream",
     "text": [
      "А вот НЕ пустая строка всегда истинна\n"
     ]
    }
   ],
   "source": [
    "if \"False\":\n",
    "    print(\"А вот НЕ пустая строка всегда истинна\")\n",
    "if \"\":\n",
    "    print(\"А пустая - ложна\")"
   ]
  },
  {
   "cell_type": "code",
   "execution_count": 71,
   "metadata": {},
   "outputs": [
    {
     "name": "stdout",
     "output_type": "stream",
     "text": [
      "Аналогично с листами\n"
     ]
    }
   ],
   "source": [
    "if [False]:\n",
    "    print(\"Аналогично с листами\")\n",
    "if []:\n",
    "    print(\"Не сработает\")"
   ]
  },
  {
   "cell_type": "markdown",
   "metadata": {},
   "source": [
    "### Циклы\n",
    "В питоне существуют 2 цикла, for и while"
   ]
  },
  {
   "cell_type": "markdown",
   "metadata": {},
   "source": [
    "\n",
    "#### Цикл for\n",
    "Формат:\n",
    "``` python\n",
    "for <переменная для итерирования> in <объект итерирования>:\n",
    "    <тело цикла>\n",
    "```\n",
    "Например:\n",
    "``` python\n",
    "for i in [1, 2, 3]:\n",
    "    print(i) # будет напечатано: 1\\n2\\n3\\n\n",
    "```\n",
    "Принимает на вход любой объект, по которому можно проитерироваться, будь то, например, лист или строка.  \n",
    "`range(<начало>, <конец>, <шаг>)` - генератор, что создаёт объект для итерации, синтаксис, по сути, как у слайсов "
   ]
  },
  {
   "cell_type": "code",
   "execution_count": 81,
   "metadata": {},
   "outputs": [
    {
     "name": "stdout",
     "output_type": "stream",
     "text": [
      "0\n",
      "2\n",
      "4\n",
      "6\n"
     ]
    }
   ],
   "source": [
    "for i in range(0, 8, 2):\n",
    "    print(i) # end - аргумент print,\n",
    "    # который указывает какой символ будет поставлен в конце строки"
   ]
  },
  {
   "cell_type": "code",
   "execution_count": 85,
   "metadata": {},
   "outputs": [
    {
     "name": "stdout",
     "output_type": "stream",
     "text": [
      "q\n",
      "w\n",
      "e\n",
      "r\n",
      "t\n",
      "y\n",
      "u\n",
      "i\n",
      "o\n",
      "p\n"
     ]
    }
   ],
   "source": [
    "for el in \"qwertyuiop\":\n",
    "    print(el)\n",
    "    "
   ]
  },
  {
   "cell_type": "code",
   "execution_count": 83,
   "metadata": {},
   "outputs": [
    {
     "name": "stdout",
     "output_type": "stream",
     "text": [
      "q\n",
      "w\n",
      "e\n",
      "r\n",
      "t\n",
      "y\n",
      "u\n",
      "i\n",
      "o\n",
      "p\n"
     ]
    }
   ],
   "source": [
    "st = \"qwertyuiop\"\n",
    "for i in range(len(st)):\n",
    "    print(st[i])\n"
   ]
  },
  {
   "cell_type": "markdown",
   "metadata": {},
   "source": [
    "#### Цикл While\n",
    "Формат:\n",
    "``` python\n",
    "while <Условие>:\n",
    "    <тело цикла>\n",
    "```\n",
    "Например:\n",
    "``` python\n",
    "idx = 0\n",
    "while idx < 3:\n",
    "    print(idx, end=' ') # 0 1 2 \n",
    "    idx+=1\n",
    "```\n",
    "Цикл while выполняется, пока условие истинно. Как и с if, можно неявно приводить к логическому типу:"
   ]
  },
  {
   "cell_type": "code",
   "execution_count": 87,
   "metadata": {},
   "outputs": [
    {
     "name": "stdout",
     "output_type": "stream",
     "text": [
      "2\n",
      "4\n",
      "8\n",
      "16\n",
      "32\n",
      "64\n"
     ]
    }
   ],
   "source": [
    "ch = 2\n",
    "while ch < 100:\n",
    "    print(ch)\n",
    "    ch *= 2"
   ]
  },
  {
   "cell_type": "markdown",
   "metadata": {},
   "source": [
    "#### Другие способы контролирования потока \n",
    "\n",
    "##### Break\n",
    "Инструкция `break` позволяет выйти из ближайщего цикла"
   ]
  },
  {
   "cell_type": "code",
   "execution_count": 90,
   "metadata": {},
   "outputs": [
    {
     "name": "stdout",
     "output_type": "stream",
     "text": [
      "q\n",
      "w\n",
      "e\n",
      "r\n",
      "t\n"
     ]
    }
   ],
   "source": [
    "for i in range(len(st)):\n",
    "    if \"y\" in st[i]:    \n",
    "        break\n",
    "    print(st[i])"
   ]
  },
  {
   "cell_type": "code",
   "execution_count": 92,
   "metadata": {},
   "outputs": [
    {
     "name": "stdout",
     "output_type": "stream",
     "text": [
      "0 1 2 3 4 5 6 7 8 9 "
     ]
    }
   ],
   "source": [
    "for i in range(10):\n",
    "    print(i, end=\" \")\n",
    "    if i == 20:\n",
    "        break"
   ]
  },
  {
   "cell_type": "markdown",
   "metadata": {},
   "source": [
    "##### Continue\n",
    "Позволяет пропустить остаток кода в цикле и сразу перейти к следующей итерации"
   ]
  },
  {
   "cell_type": "code",
   "execution_count": 95,
   "metadata": {},
   "outputs": [
    {
     "name": "stdout",
     "output_type": "stream",
     "text": [
      "1 2 4 5 7 8 "
     ]
    }
   ],
   "source": [
    "for i in range(1, 10):\n",
    "    if i % 3 == 0:\n",
    "        continue\n",
    "    print(i, end=\" \")"
   ]
  },
  {
   "cell_type": "markdown",
   "metadata": {},
   "source": [
    "start - 10\n",
    "end - 40\n",
    "все степени двойки на интервале [start:end] включительно"
   ]
  },
  {
   "cell_type": "code",
   "execution_count": 97,
   "metadata": {},
   "outputs": [
    {
     "name": "stdout",
     "output_type": "stream",
     "text": [
      "2048\n",
      "4096\n",
      "8192\n",
      "16384\n",
      "32768\n",
      "65536\n",
      "131072\n",
      "262144\n",
      "524288\n",
      "1048576\n"
     ]
    }
   ],
   "source": [
    "start = int(input())\n",
    "end = int(input())\n",
    "for i in range(start, end + 1):\n",
    "    print(2**i)"
   ]
  },
  {
   "cell_type": "markdown",
   "metadata": {},
   "source": [
    "```\n",
    "10\n",
    "40\n",
    "```"
   ]
  },
  {
   "cell_type": "code",
   "execution_count": null,
   "metadata": {},
   "outputs": [],
   "source": []
  },
  {
   "cell_type": "markdown",
   "metadata": {},
   "source": [
    "### Работа с файлами. Контекстныe менеджеры."
   ]
  },
  {
   "cell_type": "markdown",
   "metadata": {},
   "source": [
    ">«Контекстные менеджеры в Python — это удивительный механизм, который позволяет гарантировать корректное управление ресурсами и обеспечивать безопасное выполнение кода.» — Гвидо ван Россум, великодушный пожизненный диктатор Python."
   ]
  },
  {
   "cell_type": "code",
   "execution_count": 119,
   "metadata": {},
   "outputs": [
    {
     "name": "stdout",
     "output_type": "stream",
     "text": [
      "['12\\n', '1 2 3 4 5 6 7 8 9 10 11 12\\n']\n"
     ]
    }
   ],
   "source": [
    "f = open(\"input.txt\", \"r\", encoding=\"utf-8\")\n",
    "\n",
    "res = f.readlines()\n",
    "print(res)\n",
    "f.close()\n",
    "# try:\n",
    "#     # Действия с файлом\n",
    "#     content = file.read()\n",
    "#     print(content)\n",
    "# finally:\n",
    "#     file.close()"
   ]
  },
  {
   "cell_type": "code",
   "execution_count": null,
   "metadata": {},
   "outputs": [],
   "source": [
    "with open(\"example.txt\", \"r\") as f: # с контекстным менеджером\n",
    "    content = f.read()\n",
    "    print(content)\n",
    "    \n",
    "print(123)\n",
    "# --> file.close()"
   ]
  },
  {
   "cell_type": "markdown",
   "metadata": {},
   "source": [
    "Вывод в файл:\n",
    "```python\n",
    "    file.write() \n",
    "    print(\"...\", file=file)\n",
    "```\n",
    "    "
   ]
  },
  {
   "cell_type": "markdown",
   "metadata": {},
   "source": [
    "Работа с csv..."
   ]
  }
 ],
 "metadata": {
  "kernelspec": {
   "display_name": "Python 3",
   "language": "python",
   "name": "python3"
  },
  "language_info": {
   "codemirror_mode": {
    "name": "ipython",
    "version": 3
   },
   "file_extension": ".py",
   "mimetype": "text/x-python",
   "name": "python",
   "nbconvert_exporter": "python",
   "pygments_lexer": "ipython3",
   "version": "3.11.7"
  }
 },
 "nbformat": 4,
 "nbformat_minor": 2
}
